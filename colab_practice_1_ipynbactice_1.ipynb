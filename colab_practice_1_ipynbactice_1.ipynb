{
  "nbformat": 4,
  "nbformat_minor": 0,
  "metadata": {
    "colab": {
      "name": "colab practice 1.ipynbactice 1",
      "provenance": [],
      "collapsed_sections": [],
      "authorship_tag": "ABX9TyMg6RGulFYKHlvmoMmZCAnZ",
      "include_colab_link": true
    },
    "kernelspec": {
      "name": "python3",
      "display_name": "Python 3"
    },
    "language_info": {
      "name": "python"
    }
  },
  "cells": [
    {
      "cell_type": "markdown",
      "metadata": {
        "id": "view-in-github",
        "colab_type": "text"
      },
      "source": [
        "<a href=\"https://colab.research.google.com/github/adarshnitt/csoe34/blob/main/colab_practice_1_ipynbactice_1.ipynb\" target=\"_parent\"><img src=\"https://colab.research.google.com/assets/colab-badge.svg\" alt=\"Open In Colab\"/></a>"
      ]
    },
    {
      "cell_type": "code",
      "metadata": {
        "id": "ojLoNmuCh9e2",
        "colab": {
          "base_uri": "https://localhost:8080/"
        },
        "outputId": "65d01863-543e-415b-eceb-62c82c1265d4"
      },
      "source": [
        "# firstly came pivot then lower then upper\n",
        "# lower and upper both are greater than pivot\n",
        "# new data will be from  data[0, lower] and data[lower, upper]\n",
        "\n",
        "def quick(d,l,r):\n",
        "  if r-l<=1:\n",
        "    return d\n",
        "  p=d[l]\n",
        "  lower=l+1\n",
        "  upper=l+1\n",
        "  for i in range(l+1,r):\n",
        "    if d[i]>p:\n",
        "      upper=upper+1\n",
        "    else:\n",
        "      d[i],d[lower]=d[lower],d[i]\n",
        "      lower,upper=lower+1,upper+1\n",
        "  d[l],d[lower-1]=d[lower-1],d[l]\n",
        "  lower=lower-1\n",
        "  quick(d,l,lower)\n",
        "  quick(d,lower+1,upper)\n",
        "  return d\n",
        "d=[99,7,6,9999,0,3,78]\n",
        "quick(d,0,7)\n",
        "      "
      ],
      "execution_count": null,
      "outputs": [
        {
          "output_type": "execute_result",
          "data": {
            "text/plain": [
              "[0, 3, 6, 7, 78, 99, 9999]"
            ]
          },
          "metadata": {},
          "execution_count": 18
        }
      ]
    },
    {
      "cell_type": "code",
      "metadata": {
        "id": "xKpjuLEt3waG"
      },
      "source": [
        "# topological sorting\n",
        "# how work will be done, which work is ;[more prior to other one\n",
        "data={0:[2,3],1:[2,3,4],2:[7],3:[5,6],4:[6],5:[7],6:[7],7:[]}"
      ],
      "execution_count": 8,
      "outputs": []
    },
    {
      "cell_type": "code",
      "metadata": {
        "id": "hwO2282i4rQp"
      },
      "source": [
        "# code for toplogical sorting\n",
        "def prior(data):\n",
        "  indegree={}\n",
        "  zerodegree=[]\n",
        "  toposort=[]\n",
        "  for i in list(data.keys()):\n",
        "    indegree[i]=0\n",
        "  for j in list(data.keys()):\n",
        "    for k in data[j]:\n",
        "      indegree[k]=indegree[k]+1\n",
        "  for i in list(indegree.keys()):\n",
        "    if indegree[i]==0:\n",
        "      zerodegree.append(i)\n",
        "  return indegree,zerodegree,toposort"
      ],
      "execution_count": 21,
      "outputs": []
    },
    {
      "cell_type": "code",
      "metadata": {
        "id": "rMSNQHwj78Lc"
      },
      "source": [
        "indegree,zerodegree,toposort=prior(data)\n",
        "def topa(data):\n",
        "  global indegree\n",
        "  global zerodegree\n",
        "  global toposort\n",
        "  for i in zerodegree:\n",
        "    toposort.append(i)\n",
        "    indegree[i]=-1\n",
        "    zerodegree.remove(i)\n",
        "    for j in data[i]:\n",
        "      indegree[j]-=1\n",
        "  for i in list(indegree.keys()):\n",
        "    if indegree[i]==0:\n",
        "      zerodegree.append(i)\n",
        "  while len(zerodegree)!=0:\n",
        "    topa(data)\n",
        "  return"
      ],
      "execution_count": 25,
      "outputs": []
    },
    {
      "cell_type": "code",
      "metadata": {
        "colab": {
          "base_uri": "https://localhost:8080/"
        },
        "id": "4AGK4qKX502l",
        "outputId": "82db6c27-b8da-4601-d3ac-6301944edabe"
      },
      "source": [
        "topa(data)\n",
        "indegree,zerodegree,toposort"
      ],
      "execution_count": 27,
      "outputs": [
        {
          "output_type": "execute_result",
          "data": {
            "text/plain": [
              "({0: -1, 1: -1, 2: -1, 3: -1, 4: -1, 5: -1, 6: -1, 7: -1},\n",
              " [],\n",
              " [0, 1, 1, 3, 2, 5, 4, 6, 7])"
            ]
          },
          "metadata": {},
          "execution_count": 27
        }
      ]
    },
    {
      "cell_type": "code",
      "metadata": {
        "id": "_92_AHhN_6Ab"
      },
      "source": [
        "# no of linked cycles in dgraph:\n",
        "data={0:1,1:2,2:3,3:4,4: None,5:None,6:7,7:8,8:9,9:None}"
      ],
      "execution_count": 30,
      "outputs": []
    },
    {
      "cell_type": "code",
      "metadata": {
        "id": "P-CIkDuZ_6CH"
      },
      "source": [
        "def track(data):\n",
        "  visited={}\n",
        "  for i in list(data.keys()):\n",
        "    visited[i]=False\n",
        "  return visited"
      ],
      "execution_count": 29,
      "outputs": []
    },
    {
      "cell_type": "code",
      "metadata": {
        "id": "92r37GLCEc-r"
      },
      "source": [
        "visited=track(data)\n",
        "count=0\n",
        "cycle={}\n",
        "def comp(data):\n",
        "  global visited\n",
        "  global count\n",
        "  global cycle\n",
        "  for i in list(data.keys()):\n",
        "    if visited[i] is False:\n",
        "      visited[i]=True\n",
        "      try: \n",
        "        cycle[count].append(i)\n",
        "      except:\n",
        "        cycle[count]=[]\n",
        "        cycle[count].append(i)\n",
        "    if data[i] is None:\n",
        "      #print(data[i])\n",
        "      count+=1\n",
        "  return \n"
      ],
      "execution_count": 43,
      "outputs": []
    },
    {
      "cell_type": "code",
      "metadata": {
        "colab": {
          "base_uri": "https://localhost:8080/"
        },
        "id": "jroVowHH_6ER",
        "outputId": "4ba2d555-9fc7-42ec-f8d0-111883e4da45"
      },
      "source": [
        "comp(data)\n",
        "cycle"
      ],
      "execution_count": 45,
      "outputs": [
        {
          "output_type": "execute_result",
          "data": {
            "text/plain": [
              "{0: [0, 1, 2, 3, 4], 1: [5], 2: [6, 7, 8, 9]}"
            ]
          },
          "metadata": {},
          "execution_count": 45
        }
      ]
    },
    {
      "cell_type": "code",
      "metadata": {
        "id": "A7O9O9VbLhA_",
        "outputId": "af2d084b-b0df-4ac1-8699-4c9369bccd0e",
        "colab": {
          "base_uri": "https://localhost:8080/"
        }
      },
      "source": [
        "# bFS\n",
        "def bfs(data,node):\n",
        "  visited={}\n",
        "  parent={}\n",
        "  out=[node]\n",
        "  for i in list(data.keys()):\n",
        "    visited[i]=False\n",
        "    parent[i]=-1\n",
        "  found=[node]\n",
        "  visited[node]=True\n",
        "  parent[node]=None\n",
        "  while found:\n",
        "    f=found.pop(0)\n",
        "    for j in data[f]:\n",
        "      if visited[j]==False:\n",
        "        found.append(j)\n",
        "        out.append(j)\n",
        "        parent[j]=f\n",
        "        visited[j]=True\n",
        "  return visited,parent,out\n",
        "bfs(data,0)"
      ],
      "execution_count": 13,
      "outputs": [
        {
          "output_type": "execute_result",
          "data": {
            "text/plain": [
              "({0: True, 1: True, 2: True, 3: True, 4: True, 5: True, 6: True, 7: True},\n",
              " {0: None, 1: 0, 2: 0, 3: 2, 4: 2, 5: 2, 6: 4, 7: 0},\n",
              " [0, 1, 2, 7, 3, 4, 5, 6])"
            ]
          },
          "metadata": {},
          "execution_count": 13
        }
      ]
    },
    {
      "cell_type": "code",
      "metadata": {
        "id": "nq-AJvlgLhEq"
      },
      "source": [
        "data={0:[1,2,7],1:[2],2:[3,4,5],3:[7],4:[5,6],5:[6],6:[7],7:[]}"
      ],
      "execution_count": 7,
      "outputs": []
    },
    {
      "cell_type": "code",
      "metadata": {
        "id": "zAQiv6bR_6IL"
      },
      "source": [
        ""
      ],
      "execution_count": null,
      "outputs": []
    },
    {
      "cell_type": "code",
      "metadata": {
        "id": "7_m4vcmfhuY1",
        "colab": {
          "base_uri": "https://localhost:8080/"
        },
        "outputId": "8678a836-65bb-4e7a-b1df-b4386cfce70f"
      },
      "source": [
        "def quick(data,l,r):\n",
        "  if len(data[l:r])<=1:\n",
        "    return d\n",
        "  p=data[l]\n",
        "  lw=l+1\n",
        "  up=l+1\n",
        "  for i in range(l+1,r):\n",
        "    if data[i]>p:\n",
        "      up+=1\n",
        "    else:\n",
        "      data[i],data[lw]=data[lw],data[i]\n",
        "      lw+=1\n",
        "      up+=1\n",
        "  data[l],data[lw-1]=data[lw-1],data[l]\n",
        "  lw=lw-1\n",
        "  quick(data,l,lw)\n",
        "  quick(data,lw+1,up)\n",
        "  return data\n",
        "d=[1 ,2, 3, 4, 4, 5, 6, 6 ,6 ,7 ,6, 6, 6, 5, 4, 4, 3, 2, 1]\n",
        "quick(d,0,5)"
      ],
      "execution_count": null,
      "outputs": [
        {
          "output_type": "execute_result",
          "data": {
            "text/plain": [
              "[2, 4, 5, 8, 10]"
            ]
          },
          "metadata": {},
          "execution_count": 100
        }
      ]
    },
    {
      "cell_type": "code",
      "metadata": {
        "id": "MTYGUQy1evbj",
        "colab": {
          "base_uri": "https://localhost:8080/"
        },
        "outputId": "571a7385-2a56-4741-b82b-6776c1c26147"
      },
      "source": [
        "# dfs\n",
        "def init(data):\n",
        "  visited,parent={},{}\n",
        "  for i in list(data.keys()):\n",
        "    l=len(data[i])\n",
        "    for j in range(l):\n",
        "      parent[data[i][j]]=[]\n",
        "      visited[i]=False\n",
        "  return visited,parent\n",
        "init(data)"
      ],
      "execution_count": null,
      "outputs": [
        {
          "output_type": "execute_result",
          "data": {
            "text/plain": [
              "({0: False, 1: False, 2: False}, {1: [], 2: [], 3: []})"
            ]
          },
          "metadata": {},
          "execution_count": 2
        }
      ]
    },
    {
      "cell_type": "code",
      "metadata": {
        "id": "lEa8HeFrf34R"
      },
      "source": [
        "visited,parent=init(data)\n",
        "def dfs(list,n):\n",
        "  global visited\n",
        "  global parent\n",
        "  visited[n]=True\n",
        "  try:\n",
        "    l=len(list[n])\n",
        "    for i in range(l):\n",
        "      parent[list[n][i]].append(n)\n",
        "      #print(list[n][i])\n",
        "      dfs(list,list[n][i])\n",
        "  except:\n",
        "    pass\n",
        "  return\n",
        "dfs(list,0)\n",
        "list?"
      ],
      "execution_count": null,
      "outputs": []
    },
    {
      "cell_type": "code",
      "metadata": {
        "id": "W5t_XvyUeyWB",
        "colab": {
          "base_uri": "https://localhost:8080/"
        },
        "outputId": "6fae053f-f2d2-4482-e843-747cf77ea80a"
      },
      "source": [
        "data={0:[1],\n",
        "      1:[2],\n",
        "      2:[3]}\n",
        "list(data.keys())"
      ],
      "execution_count": null,
      "outputs": [
        {
          "output_type": "execute_result",
          "data": {
            "text/plain": [
              "[0, 1, 2]"
            ]
          },
          "metadata": {},
          "execution_count": 1
        }
      ]
    },
    {
      "cell_type": "code",
      "metadata": {
        "id": "R13CPx-deyYD",
        "colab": {
          "base_uri": "https://localhost:8080/"
        },
        "outputId": "dee6a927-2b1a-4c22-bf9e-8244e9456ebb"
      },
      "source": [
        "visited,parent"
      ],
      "execution_count": null,
      "outputs": [
        {
          "output_type": "execute_result",
          "data": {
            "text/plain": [
              "({0: True, 1: True, 2: True, 3: True}, {0: None, 1: 0, 2: 1, 3: 2})"
            ]
          },
          "metadata": {},
          "execution_count": 12
        }
      ]
    },
    {
      "cell_type": "code",
      "metadata": {
        "id": "owd6-UwdeybC",
        "colab": {
          "base_uri": "https://localhost:8080/"
        },
        "outputId": "8c68165a-7580-4911-afb6-a28f85f59208"
      },
      "source": [
        "data={0:[1],\n",
        "      1:[2],\n",
        "      2:[3]}\n",
        "\n",
        "visited,parent=init(data)\n",
        "dfs(data,0)\n",
        "visited,parent"
      ],
      "execution_count": null,
      "outputs": [
        {
          "output_type": "execute_result",
          "data": {
            "text/plain": [
              "({0: True, 1: True, 2: True, 3: True}, {1: [0], 2: [1], 3: [2]})"
            ]
          },
          "metadata": {},
          "execution_count": 7
        }
      ]
    },
    {
      "cell_type": "code",
      "metadata": {
        "id": "lQiyecg5eyes",
        "colab": {
          "base_uri": "https://localhost:8080/"
        },
        "outputId": "93aea7ae-04cd-4b59-c1f4-f6b08408bab5"
      },
      "source": [
        "vert=\"1 2 3 4 5 6 7 8\".split(\" \")\n",
        "vertices={}\n",
        "edge={}\n",
        "for i in vert:\n",
        "    vertices[i]=False\n",
        "    edge[i]=[]\n",
        "n=6\n",
        "\n",
        "for i in range(n):\n",
        "    d=input().split(\" \")\n",
        "    edge[d[0]].append(d[1])\n",
        "count=1\n",
        "\n",
        "def loop(data):\n",
        "    contain=[]\n",
        "    for i in list(data.keys()):\n",
        "        if visited[i] is False:\n",
        "            contain.append(i)\n",
        "            break\n",
        "    while contain:\n",
        "        elem=contain.pop(0)\n",
        "        visited[elem]=True\n",
        "        try: \n",
        "            for j in data[j]:\n",
        "                contain.append(j)\n",
        "        except:\n",
        "            continue\n",
        "    count+=1\n",
        "    loop(data)\n",
        "    return \n",
        "\n",
        "print(count)"
      ],
      "execution_count": 17,
      "outputs": [
        {
          "output_type": "stream",
          "name": "stdout",
          "text": [
            "1 3\n",
            "2 3\n",
            "1 4\n",
            "2 4\n",
            "3 4\n",
            "5 6\n",
            "0\n"
          ]
        }
      ]
    },
    {
      "cell_type": "code",
      "metadata": {
        "id": "lD6rP4HLBq-k"
      },
      "source": [
        "# longest path\n",
        "data={0:[2,4,3],1:[2,7],2:[5],4:[7],3:[5,7],5:[6],6:[7]}"
      ],
      "execution_count": 2,
      "outputs": []
    },
    {
      "cell_type": "code",
      "metadata": {
        "id": "4NVutjXHCcZt",
        "outputId": "34e676c2-d543-4b64-888b-290ade4683f2",
        "colab": {
          "base_uri": "https://localhost:8080/"
        }
      },
      "source": [
        "def pre(data):\n",
        "  indegree=dict(zip([i for i in list(data.keys()) ],[0]*len( list(data.keys()))))\n",
        "  for i in list(data.keys()):\n",
        "    for j in data[i]:\n",
        "      indegree[j]=indegree[i]+1\n",
        "  return indegree\n",
        "pre(data)"
      ],
      "execution_count": 9,
      "outputs": [
        {
          "output_type": "execute_result",
          "data": {
            "text/plain": [
              "{0: 0, 1: 0, 2: 1, 3: 1, 4: 1, 5: 2, 6: 3, 7: 4}"
            ]
          },
          "metadata": {},
          "execution_count": 9
        }
      ]
    },
    {
      "cell_type": "code",
      "metadata": {
        "id": "GHLkjVqKEvxz",
        "outputId": "edec084e-18ef-4efd-8477-40c047ca7dc0",
        "colab": {
          "base_uri": "https://localhost:8080/"
        }
      },
      "source": [
        "def prep(data):\n",
        "  visited={}\n",
        "  outdegree={}\n",
        "  for i in list(data.keys()):\n",
        "    visited[i]=False\n",
        "    try:\n",
        "      outdegree[i]=len(data[i])\n",
        "    except:\n",
        "      outdegree[i]=0\n",
        "  return outdegree, visited\n",
        "data={1:[2,4],2:[3],3:[5],5:[6,8],4:[3,7],7:[8],6:None,8:None}\n",
        "prep(data)"
      ],
      "execution_count": 7,
      "outputs": [
        {
          "output_type": "execute_result",
          "data": {
            "text/plain": [
              "({1: 2, 2: 1, 3: 1, 4: 2, 5: 2, 6: 0, 7: 1, 8: 0},\n",
              " {1: False,\n",
              "  2: False,\n",
              "  3: False,\n",
              "  4: False,\n",
              "  5: False,\n",
              "  6: False,\n",
              "  7: False,\n",
              "  8: False})"
            ]
          },
          "metadata": {},
          "execution_count": 7
        }
      ]
    },
    {
      "cell_type": "code",
      "metadata": {
        "id": "pTazQMR54XXZ",
        "outputId": "6add82d1-90ad-4971-b3ea-40563be8882b",
        "colab": {
          "base_uri": "https://localhost:8080/"
        }
      },
      "source": [
        "final=[]\n",
        "outdegree, visited=prep(data)\n",
        "def dfs( data, node):\n",
        "  global final\n",
        "  global outdegree\n",
        "  global visited\n",
        "  if outdegree[node]!=0 and visited[node]==False:\n",
        "    final.append(node)\n",
        "    for i in data[node]:\n",
        "      outdegree[node]-=1\n",
        "      if outdegree[node]==0:\n",
        "        visited[node]=True\n",
        "      dfs(data,i)\n",
        "  if outdegree[node]==0 and visited[node]==False:\n",
        "    final.append(node)\n",
        "  visited[node]=True\n",
        "  return\n",
        "dfs(data,1)\n",
        "final\n"
      ],
      "execution_count": 10,
      "outputs": [
        {
          "output_type": "execute_result",
          "data": {
            "text/plain": [
              "[1, 2, 3, 5, 6, 8, 4, 7]"
            ]
          },
          "metadata": {},
          "execution_count": 10
        }
      ]
    },
    {
      "cell_type": "code",
      "metadata": {
        "id": "PasMGu83h9m5"
      },
      "source": [
        "import numpy as np\n",
        "from numpy  import where"
      ],
      "execution_count": null,
      "outputs": []
    },
    {
      "cell_type": "code",
      "metadata": {
        "id": "C4-fTWKah9qZ",
        "colab": {
          "base_uri": "https://localhost:8080/"
        },
        "outputId": "2e15f2de-9640-4362-8cdb-b29f820606b3"
      },
      "source": [
        "a=[True,True,True]\n",
        "b=[False,False,True,False,True]\n",
        "c=[1,2,3,4]\n",
        "\n",
        "where(b)"
      ],
      "execution_count": null,
      "outputs": [
        {
          "output_type": "execute_result",
          "data": {
            "text/plain": [
              "(array([2, 4]),)"
            ]
          },
          "metadata": {},
          "execution_count": 84
        }
      ]
    },
    {
      "cell_type": "code",
      "metadata": {
        "id": "JJWZQTTCddjh",
        "colab": {
          "base_uri": "https://localhost:8080/",
          "height": 166
        },
        "outputId": "2b2cf768-8765-4261-f0be-d3e61459057c"
      },
      "source": [
        "where(a*b)"
      ],
      "execution_count": null,
      "outputs": [
        {
          "output_type": "error",
          "ename": "TypeError",
          "evalue": "ignored",
          "traceback": [
            "\u001b[0;31m---------------------------------------------------------------------------\u001b[0m",
            "\u001b[0;31mTypeError\u001b[0m                                 Traceback (most recent call last)",
            "\u001b[0;32m<ipython-input-85-1c711d06ae39>\u001b[0m in \u001b[0;36m<module>\u001b[0;34m()\u001b[0m\n\u001b[0;32m----> 1\u001b[0;31m \u001b[0mwhere\u001b[0m\u001b[0;34m(\u001b[0m\u001b[0ma\u001b[0m\u001b[0;34m*\u001b[0m\u001b[0mb\u001b[0m\u001b[0;34m)\u001b[0m\u001b[0;34m\u001b[0m\u001b[0;34m\u001b[0m\u001b[0m\n\u001b[0m",
            "\u001b[0;31mTypeError\u001b[0m: can't multiply sequence by non-int of type 'list'"
          ]
        }
      ]
    },
    {
      "cell_type": "code",
      "metadata": {
        "id": "jyJUSr9Wh9tc",
        "colab": {
          "base_uri": "https://localhost:8080/"
        },
        "outputId": "28458a5f-d5fb-4fc7-ffd7-fbd021ac1e0a"
      },
      "source": [
        "import numpy as np\n",
        "x=np.arange(0,100,2)\n",
        "print(x,len(x))"
      ],
      "execution_count": null,
      "outputs": [
        {
          "output_type": "stream",
          "name": "stdout",
          "text": [
            "[ 0  2  4  6  8 10 12 14 16 18 20 22 24 26 28 30 32 34 36 38 40 42 44 46\n",
            " 48 50 52 54 56 58 60 62 64 66 68 70 72 74 76 78 80 82 84 86 88 90 92 94\n",
            " 96 98] 50\n"
          ]
        }
      ]
    },
    {
      "cell_type": "code",
      "metadata": {
        "id": "5BA6bYQ1YaJ7",
        "colab": {
          "base_uri": "https://localhost:8080/"
        },
        "outputId": "5057877e-8845-4fdd-c540-6c422aa1a4b5"
      },
      "source": [
        "np.zeros(shape=[2,2])"
      ],
      "execution_count": null,
      "outputs": [
        {
          "output_type": "execute_result",
          "data": {
            "text/plain": [
              "array([[0., 0.],\n",
              "       [0., 0.]])"
            ]
          },
          "metadata": {},
          "execution_count": 91
        }
      ]
    },
    {
      "cell_type": "code",
      "metadata": {
        "id": "L6JMsSeGYaNc",
        "colab": {
          "base_uri": "https://localhost:8080/"
        },
        "outputId": "e0a6d2e7-6d53-47ca-d412-63265749d7e3"
      },
      "source": [
        "s=np.where(xx)\n",
        "s"
      ],
      "execution_count": null,
      "outputs": [
        {
          "output_type": "execute_result",
          "data": {
            "text/plain": [
              "(array([20, 21, 22, 23, 24, 25, 26, 27, 28, 29, 30, 31, 32, 33, 34, 35, 36,\n",
              "        37, 38, 39, 40, 41, 42, 43, 44, 45, 46, 47, 48, 49]),)"
            ]
          },
          "metadata": {},
          "execution_count": 74
        }
      ]
    },
    {
      "cell_type": "code",
      "metadata": {
        "id": "Q5c1eviJh9v_",
        "colab": {
          "base_uri": "https://localhost:8080/"
        },
        "outputId": "822fbc92-74f5-4fe7-b83d-ce44900517d2"
      },
      "source": [
        "z=y*yy\n",
        "z"
      ],
      "execution_count": null,
      "outputs": [
        {
          "output_type": "execute_result",
          "data": {
            "text/plain": [
              "array([False,  True,  True,  True,  True,  True,  True,  True,  True,\n",
              "        True,  True,  True,  True,  True,  True,  True,  True,  True,\n",
              "        True,  True,  True,  True,  True,  True,  True,  True,  True,\n",
              "        True,  True,  True,  True,  True,  True,  True,  True,  True,\n",
              "        True,  True,  True,  True,  True,  True,  True,  True,  True,\n",
              "        True,  True,  True,  True,  True])"
            ]
          },
          "metadata": {},
          "execution_count": 52
        }
      ]
    },
    {
      "cell_type": "code",
      "metadata": {
        "id": "-yEvQJGnh9ye",
        "colab": {
          "base_uri": "https://localhost:8080/"
        },
        "outputId": "d343af7f-f352-4423-8e88-a9d80543f120"
      },
      "source": [
        "yy"
      ],
      "execution_count": null,
      "outputs": [
        {
          "output_type": "execute_result",
          "data": {
            "text/plain": [
              "array([ True,  True,  True,  True,  True,  True,  True,  True,  True,\n",
              "        True,  True,  True,  True,  True,  True,  True,  True,  True,\n",
              "        True,  True,  True,  True,  True,  True,  True,  True,  True,\n",
              "        True,  True,  True,  True,  True,  True,  True,  True,  True,\n",
              "        True,  True,  True,  True,  True,  True,  True,  True,  True,\n",
              "        True,  True,  True,  True,  True])"
            ]
          },
          "metadata": {},
          "execution_count": 58
        }
      ]
    },
    {
      "cell_type": "code",
      "metadata": {
        "id": "rYu7mPHkh91f",
        "colab": {
          "base_uri": "https://localhost:8080/"
        },
        "outputId": "3eed3300-5ef0-4f4f-ea5a-41ca501fb9c5"
      },
      "source": [
        "np.where(yy)"
      ],
      "execution_count": null,
      "outputs": [
        {
          "output_type": "execute_result",
          "data": {
            "text/plain": [
              "(array([ 0,  1,  2,  3,  4,  5,  6,  7,  8,  9, 10, 11, 12, 13, 14, 15, 16,\n",
              "        17, 18, 19, 20, 21, 22, 23, 24, 25, 26, 27, 28, 29, 30, 31, 32, 33,\n",
              "        34, 35, 36, 37, 38, 39, 40, 41, 42, 43, 44, 45, 46, 47, 48, 49]),)"
            ]
          },
          "metadata": {},
          "execution_count": 57
        }
      ]
    },
    {
      "cell_type": "code",
      "metadata": {
        "id": "tZKMJxggh94c"
      },
      "source": [
        ""
      ],
      "execution_count": null,
      "outputs": []
    },
    {
      "cell_type": "code",
      "metadata": {
        "colab": {
          "base_uri": "https://localhost:8080/"
        },
        "id": "PNMp2tc6ZwVm",
        "outputId": "d2e110c7-f66c-4814-fa33-809e34e674e4"
      },
      "source": [
        "!find / -iname 'libdevice'\n",
        "!find / -iname 'libnvvm.so'\n"
      ],
      "execution_count": null,
      "outputs": [
        {
          "output_type": "stream",
          "text": [
            "/usr/local/lib/python3.7/dist-packages/jaxlib/cuda/nvvm/libdevice\n",
            "/usr/local/cuda-10.1/nvvm/libdevice\n",
            "/usr/local/cuda-11.0/nvvm/libdevice\n",
            "/usr/local/cuda-10.0/nvvm/libdevice\n",
            "/usr/local/cuda-10.1/nvvm/lib64/libnvvm.so\n",
            "/usr/local/cuda-11.0/nvvm/lib64/libnvvm.so\n",
            "/usr/local/cuda-10.0/nvvm/lib64/libnvvm.so\n"
          ],
          "name": "stdout"
        }
      ]
    },
    {
      "cell_type": "code",
      "metadata": {
        "id": "1y9Fx7egZ28M"
      },
      "source": [
        "import os\n",
        "os.environ['NUMBAPRO_LIBDEVICE'] = \"/usr/local/cuda-10.0/nvvm/libdevice\"\n",
        "os.environ['NUMBAPRO_NVVM'] = \"/usr/local/cuda-10.0/nvvm/lib64/libnvvm.so\""
      ],
      "execution_count": null,
      "outputs": []
    },
    {
      "cell_type": "code",
      "metadata": {
        "id": "7pDgUZbwZ64d"
      },
      "source": [
        "import pandas as pd\n",
        "import random"
      ],
      "execution_count": null,
      "outputs": []
    },
    {
      "cell_type": "code",
      "metadata": {
        "id": "gzs_CkdYZ-hq"
      },
      "source": [
        "a=([1,2,3],[22,33,44],[331,441,551])\n",
        "b=np.square(a)"
      ],
      "execution_count": null,
      "outputs": []
    },
    {
      "cell_type": "code",
      "metadata": {
        "id": "eQ1yP_hWbRNT"
      },
      "source": [
        "from numba import vectorize\n",
        "import math"
      ],
      "execution_count": null,
      "outputs": []
    },
    {
      "cell_type": "code",
      "metadata": {
        "colab": {
          "base_uri": "https://localhost:8080/",
          "height": 201
        },
        "id": "j9YPS1S5bRPK",
        "outputId": "7685ae71-ea4b-4051-9784-39b6034f6ceb"
      },
      "source": [
        "@vectorize([(int64[:],int64[:])],\"(n)->(n)\")\n",
        "def s(x,y):\n",
        "  y=np.square(x)\n"
      ],
      "execution_count": null,
      "outputs": [
        {
          "output_type": "error",
          "ename": "NameError",
          "evalue": "ignored",
          "traceback": [
            "\u001b[0;31m---------------------------------------------------------------------------\u001b[0m",
            "\u001b[0;31mNameError\u001b[0m                                 Traceback (most recent call last)",
            "\u001b[0;32m<ipython-input-16-5a7fb0f601f5>\u001b[0m in \u001b[0;36m<module>\u001b[0;34m()\u001b[0m\n\u001b[0;32m----> 1\u001b[0;31m \u001b[0;34m@\u001b[0m\u001b[0mvectorize\u001b[0m\u001b[0;34m(\u001b[0m\u001b[0;34m[\u001b[0m\u001b[0;34m(\u001b[0m\u001b[0mint64\u001b[0m\u001b[0;34m[\u001b[0m\u001b[0;34m:\u001b[0m\u001b[0;34m]\u001b[0m\u001b[0;34m,\u001b[0m\u001b[0mint64\u001b[0m\u001b[0;34m[\u001b[0m\u001b[0;34m:\u001b[0m\u001b[0;34m]\u001b[0m\u001b[0;34m)\u001b[0m\u001b[0;34m]\u001b[0m\u001b[0;34m,\u001b[0m\u001b[0;34m\"(n)->(n)\"\u001b[0m\u001b[0;34m)\u001b[0m\u001b[0;34m\u001b[0m\u001b[0;34m\u001b[0m\u001b[0m\n\u001b[0m\u001b[1;32m      2\u001b[0m \u001b[0;32mdef\u001b[0m \u001b[0ms\u001b[0m\u001b[0;34m(\u001b[0m\u001b[0mx\u001b[0m\u001b[0;34m,\u001b[0m\u001b[0my\u001b[0m\u001b[0;34m)\u001b[0m\u001b[0;34m:\u001b[0m\u001b[0;34m\u001b[0m\u001b[0;34m\u001b[0m\u001b[0m\n\u001b[1;32m      3\u001b[0m   \u001b[0my\u001b[0m\u001b[0;34m=\u001b[0m\u001b[0mnp\u001b[0m\u001b[0;34m.\u001b[0m\u001b[0msquare\u001b[0m\u001b[0;34m(\u001b[0m\u001b[0mx\u001b[0m\u001b[0;34m)\u001b[0m\u001b[0;34m\u001b[0m\u001b[0;34m\u001b[0m\u001b[0m\n",
            "\u001b[0;31mNameError\u001b[0m: name 'int64' is not defined"
          ]
        }
      ]
    },
    {
      "cell_type": "code",
      "metadata": {
        "id": "autUdDlnbRQu"
      },
      "source": [
        ""
      ],
      "execution_count": null,
      "outputs": []
    },
    {
      "cell_type": "code",
      "metadata": {
        "id": "-iGVgKlabRSg"
      },
      "source": [
        ""
      ],
      "execution_count": null,
      "outputs": []
    },
    {
      "cell_type": "code",
      "metadata": {
        "id": "1Woy32fobRT4"
      },
      "source": [
        ""
      ],
      "execution_count": null,
      "outputs": []
    },
    {
      "cell_type": "code",
      "metadata": {
        "id": "2xa_ow5YbRVt"
      },
      "source": [
        ""
      ],
      "execution_count": null,
      "outputs": []
    },
    {
      "cell_type": "code",
      "metadata": {
        "id": "qXHPNCZPbRXW"
      },
      "source": [
        ""
      ],
      "execution_count": null,
      "outputs": []
    },
    {
      "cell_type": "code",
      "metadata": {
        "id": "WASsd4KcbRY2"
      },
      "source": [
        ""
      ],
      "execution_count": null,
      "outputs": []
    },
    {
      "cell_type": "code",
      "metadata": {
        "id": "ql9sM-8FbRau"
      },
      "source": [
        ""
      ],
      "execution_count": null,
      "outputs": []
    },
    {
      "cell_type": "code",
      "metadata": {
        "id": "5FaxisC2bRcc"
      },
      "source": [
        ""
      ],
      "execution_count": null,
      "outputs": []
    },
    {
      "cell_type": "code",
      "metadata": {
        "id": "6MpFIULdbReI"
      },
      "source": [
        ""
      ],
      "execution_count": null,
      "outputs": []
    },
    {
      "cell_type": "code",
      "metadata": {
        "id": "EK-ussOlbRf7"
      },
      "source": [
        ""
      ],
      "execution_count": null,
      "outputs": []
    },
    {
      "cell_type": "code",
      "metadata": {
        "id": "ngfx5p9QbRhe"
      },
      "source": [
        ""
      ],
      "execution_count": null,
      "outputs": []
    },
    {
      "cell_type": "code",
      "metadata": {
        "id": "X78uzOgcbRjR"
      },
      "source": [
        ""
      ],
      "execution_count": null,
      "outputs": []
    },
    {
      "cell_type": "code",
      "metadata": {
        "id": "VgHSz-bGbRlh"
      },
      "source": [
        ""
      ],
      "execution_count": null,
      "outputs": []
    },
    {
      "cell_type": "code",
      "metadata": {
        "id": "LitRbkqebRm4"
      },
      "source": [
        ""
      ],
      "execution_count": null,
      "outputs": []
    },
    {
      "cell_type": "code",
      "metadata": {
        "id": "Zv9K0dmlbRog"
      },
      "source": [
        ""
      ],
      "execution_count": null,
      "outputs": []
    },
    {
      "cell_type": "code",
      "metadata": {
        "id": "aLo0-A_rbRr2"
      },
      "source": [
        ""
      ],
      "execution_count": null,
      "outputs": []
    }
  ]
}