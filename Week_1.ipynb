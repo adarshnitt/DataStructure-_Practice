{
  "nbformat": 4,
  "nbformat_minor": 0,
  "metadata": {
    "colab": {
      "name": "Week-1.ipynb",
      "provenance": [],
      "authorship_tag": "ABX9TyMc1g29ByPUJhIpRghyvfyR",
      "include_colab_link": true
    },
    "kernelspec": {
      "name": "python3",
      "display_name": "Python 3"
    },
    "language_info": {
      "name": "python"
    }
  },
  "cells": [
    {
      "cell_type": "markdown",
      "metadata": {
        "id": "view-in-github",
        "colab_type": "text"
      },
      "source": [
        "<a href=\"https://colab.research.google.com/github/adarshnitt/DataStructure-_Practice/blob/main/Week_1.ipynb\" target=\"_parent\"><img src=\"https://colab.research.google.com/assets/colab-badge.svg\" alt=\"Open In Colab\"/></a>"
      ]
    },
    {
      "cell_type": "markdown",
      "metadata": {
        "id": "IWGqltZpaLo3"
      },
      "source": [
        "<b>Question</b>: <br>\n",
        "Twin primes are pairs of prime numbers that differ by 2. For example (3, 5), (5, 7), and (11,13) are twin primes.\n",
        "Write a function Twin_Primes(n, m) where n and m are positive integers and n < m , that returns all unique twin primes between m and n (both inclusive). The function returns a list of tuples and each tuple (a,b) represents one unique twin prime where n <= a < b <= m."
      ]
    },
    {
      "cell_type": "code",
      "metadata": {
        "id": "Gq4tLXe4aTbt"
      },
      "source": [
        "# solution\n",
        "def prime(a):\n",
        "  if a==1:\n",
        "    return False\n",
        "  for j in range(2,a):\n",
        "    if a%j==0:\n",
        "      return False\n",
        "  return True\n",
        "\n",
        "def solution(a,b):\n",
        "  result=set()\n",
        "  for k in range(a,b-1):\n",
        "    if prime(k):\n",
        "      if prime(k+2):\n",
        "        result.add((k,k+2))\n",
        "  return result\n"
      ],
      "execution_count": 19,
      "outputs": []
    },
    {
      "cell_type": "code",
      "metadata": {
        "colab": {
          "base_uri": "https://localhost:8080/"
        },
        "id": "iLbdOV5MaTeQ",
        "outputId": "0b400ed4-fbe8-49b2-a241-c715ba1628ba"
      },
      "source": [
        "# checking\n",
        "solution(11,25)"
      ],
      "execution_count": 20,
      "outputs": [
        {
          "output_type": "execute_result",
          "data": {
            "text/plain": [
              "{(11, 13), (17, 19)}"
            ]
          },
          "metadata": {},
          "execution_count": 20
        }
      ]
    },
    {
      "cell_type": "markdown",
      "metadata": {
        "id": "cU7JO-mSilb1"
      },
      "source": [
        "<b>Question</b>: <br>\n",
        "Write a function Find_Min Difference(L, P) that accepts a list L of integers and P (positive integer) where the size of L is greater than P. The task is to pick distinct elements from the list L. where the difference between the maximum value and the minimum value in selected elements is minimum compared to other differences in possible subset of p elements. The function returns this minimum difference value.\n",
        "\n",
        "Note- The list can contain more than one subset of p elements that have the same minimum difference value.\n",
        "\n",
        "Example\n",
        "\n",
        "Let = [3, 4, 1, 9, 56, 7, 9, 12, 131 and P = 5\n",
        "\n",
        "If we see the following two subsets of 5 elements from L\n",
        "\n",
        "[3, 4, 7, 9, 9] or [7, 9, 9, 12, 13]\n"
      ]
    },
    {
      "cell_type": "code",
      "metadata": {
        "id": "b5pZp-DhaTiF"
      },
      "source": [
        "def quick(data,a,b):\n",
        "  if b-a<=1:\n",
        "    return data\n",
        "  pivot=data[a]\n",
        "  lower=a+1\n",
        "  for j in range(a+1,b):\n",
        "    if data[j]<pivot:\n",
        "      data[j],data[lower]=data[lower],data[j]\n",
        "      lower+=1\n",
        "  data[lower-1],data[a]=data[a],data[lower-1]\n",
        "  lower-=1\n",
        "  quick(data,a,lower+1)\n",
        "  quick(data,lower+1,b)\n",
        "  return data\n",
        "\n",
        "def solution(data,n):\n",
        "  data=quick(data,0,len(data))\n",
        "  min=data[-1]-data[0]\n",
        "  for j in range(0,len(data)-n-1):\n",
        "    if data[j+n-1]-data[j]<min:\n",
        "      min=data[j+n-1]-data[j]\n",
        "      #print(min,data[j],data[j+n-1])\n",
        "  return min"
      ],
      "execution_count": 54,
      "outputs": []
    },
    {
      "cell_type": "code",
      "metadata": {
        "colab": {
          "base_uri": "https://localhost:8080/"
        },
        "id": "Ku1otC3jaTjd",
        "outputId": "4b7b32e0-3e65-4bd8-e3ff-904ab5ffaac5"
      },
      "source": [
        "solution([1,2,3,-4,3,2,1,5,-6,7,8,9,10],6)"
      ],
      "execution_count": 55,
      "outputs": [
        {
          "output_type": "execute_result",
          "data": {
            "text/plain": [
              "2"
            ]
          },
          "metadata": {},
          "execution_count": 55
        }
      ]
    },
    {
      "cell_type": "code",
      "metadata": {
        "colab": {
          "base_uri": "https://localhost:8080/"
        },
        "id": "0UHz-gyOaTm8",
        "outputId": "2c091254-9f12-4914-ab2f-5ac9356b9e31"
      },
      "source": [
        "quick([10,9,8,7,6,5,4,3,2,1,-1,-2],0,len([10,9,8,7,6,5,4,3,2,1,-1,-2]))"
      ],
      "execution_count": 31,
      "outputs": [
        {
          "output_type": "execute_result",
          "data": {
            "text/plain": [
              "[-2, -1, 1, 2, 3, 4, 5, 6, 7, 8, 9, 10]"
            ]
          },
          "metadata": {},
          "execution_count": 31
        }
      ]
    },
    {
      "cell_type": "markdown",
      "metadata": {
        "id": "jmJ_eN7ApTv_"
      },
      "source": [
        "<b>Question</b>: <br>\n",
        "Goldbach's conjecture is one of the oldest and best-known unsolved problems in number theory. It states that every even number greater than 2 is the sum of two prime numbers.\n",
        "\n",
        "For Example:\n",
        "\n",
        "12=5+7\n",
        "\n",
        "26=3+23 or 7+19 or 13+13\n",
        "\n",
        "Write a function Goldbach(n) where n is a positive even number(n> 2) that returns a list of tuples. In each tuple (a,b) where a <- b. a and b should be prime numbers and the sum of a and b should be equal to n.\n",
        "\n",
        "Sample Input 1\n",
        "\n",
        "1 12\n",
        "\n",
        "Output\n",
        "\n",
        "1 [(5.7)]\n",
        "\n",
        "Sample Input 2\n",
        "\n",
        "1 26\n",
        "\n",
        "Output\n",
        "\n",
        "1 [(3,23), (7,19), (13,13)]"
      ]
    },
    {
      "cell_type": "code",
      "metadata": {
        "id": "wgvDBtccpVIW"
      },
      "source": [
        "# solution \n",
        "def prime(a):\n",
        "  if a==1:\n",
        "    return False\n",
        "  for j in range(2,a):\n",
        "    if a%j==0:\n",
        "      return False\n",
        "  return True\n",
        "def solution(n):\n",
        "  result=set()\n",
        "  for j in range((n+1)//2):\n",
        "    if prime(j):\n",
        "      if prime(n-j):\n",
        "        result.add((j,n-j))\n",
        "  return result"
      ],
      "execution_count": 64,
      "outputs": []
    },
    {
      "cell_type": "code",
      "metadata": {
        "colab": {
          "base_uri": "https://localhost:8080/"
        },
        "id": "q0JRUeWhp253",
        "outputId": "687a1ff5-e623-4b3f-e731-3369b190d09c"
      },
      "source": [
        "solution(250)"
      ],
      "execution_count": 67,
      "outputs": [
        {
          "output_type": "execute_result",
          "data": {
            "text/plain": [
              "{(11, 239),\n",
              " (17, 233),\n",
              " (23, 227),\n",
              " (53, 197),\n",
              " (59, 191),\n",
              " (71, 179),\n",
              " (83, 167),\n",
              " (101, 149),\n",
              " (113, 137)}"
            ]
          },
          "metadata": {},
          "execution_count": 67
        }
      ]
    },
    {
      "cell_type": "code",
      "metadata": {
        "id": "63aRUetgp29V"
      },
      "source": [
        ""
      ],
      "execution_count": null,
      "outputs": []
    }
  ]
}