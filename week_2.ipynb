{
  "nbformat": 4,
  "nbformat_minor": 0,
  "metadata": {
    "colab": {
      "name": "week-2.ipynb",
      "provenance": [],
      "collapsed_sections": [],
      "authorship_tag": "ABX9TyNGFe28/LT+mITFVdoOFEcH",
      "include_colab_link": true
    },
    "kernelspec": {
      "name": "python3",
      "display_name": "Python 3"
    },
    "language_info": {
      "name": "python"
    }
  },
  "cells": [
    {
      "cell_type": "markdown",
      "metadata": {
        "id": "view-in-github",
        "colab_type": "text"
      },
      "source": [
        "<a href=\"https://colab.research.google.com/github/adarshnitt/DataStructure-_Practice/blob/main/week_2.ipynb\" target=\"_parent\"><img src=\"https://colab.research.google.com/assets/colab-badge.svg\" alt=\"Open In Colab\"/></a>"
      ]
    },
    {
      "cell_type": "markdown",
      "metadata": {
        "id": "0GY2x6eVBIWF"
      },
      "source": [
        "Write a Python function binarySearchindexAndComparisons(L, k) that accepts a list L sorted in ascending order and an integer k and returns a tuple (True/False, numComparisons). The first part of this tuple will be True if integer k is present in list L, False otherwise. The second part of the tuple is an integer which gives the number of elements in L that are actually compared to k while searching k in the list L using binary search.\n",
        "\n",
        "For consistency use (left+right)//2 to calculate the middle index.\n",
        "\n",
        "Example:\n",
        "\n",
        "For givenLand k, your function should return as mentioned in the table below.\n",
        "\n",
        "L = [2, 6,\n",
        "\n",
        "8,\n",
        "\n",
        "11, 17, 23, 33, 44, 46, 50, 651, list is same for all examples below.\n",
        "\n",
        "k\n",
        "\n",
        "Return\n",
        "\n",
        "11\n",
        "\n",
        "(True, 3)\n",
        "\n",
        "23\n",
        "\n",
        "(True, 1)\n",
        "\n",
        "(False, 4)\n",
        "\n",
        "100\n"
      ]
    },
    {
      "cell_type": "code",
      "metadata": {
        "colab": {
          "base_uri": "https://localhost:8080/"
        },
        "id": "1ZL2-R-TBLEX",
        "outputId": "8c12a68b-aead-4619-b5ac-4675b8bdaccb"
      },
      "source": [
        "data=[1,2,3,4,5,6]\n",
        "k=3\n",
        "count=1\n",
        "status =False\n",
        "def binary(data,k):\n",
        "  global count\n",
        "  global status\n",
        "  if len (data)<=1:\n",
        "    if len(data)==1 and k==data[0]:\n",
        "      \n",
        "      status =True\n",
        "    return\n",
        "  \n",
        "  mid=len(data)//2\n",
        "  \n",
        "  if data[mid]<k:\n",
        "    count+=1\n",
        "    print(data[mid+1:])\n",
        "    binary(data[mid+1:],k)\n",
        "  elif data[mid]==k:\n",
        "    status=True\n",
        "  else:\n",
        "    count+=1\n",
        "    print(data[:mid])\n",
        "    binary(data[:mid],k)\n",
        "  return  count, status\n",
        "binary(data,5)"
      ],
      "execution_count": 25,
      "outputs": [
        {
          "output_type": "stream",
          "name": "stdout",
          "text": [
            "[5, 6]\n",
            "[5]\n"
          ]
        },
        {
          "output_type": "execute_result",
          "data": {
            "text/plain": [
              "(3, True)"
            ]
          },
          "metadata": {},
          "execution_count": 25
        }
      ]
    },
    {
      "cell_type": "markdown",
      "metadata": {
        "id": "nwPlmhViCF_j"
      },
      "source": [
        "Consider a list L containing an integers, where each integer is in the range [0, r) that is 0 <= i <r, r<1000 and n>>r (n is much greater than r). Write a Python function sortInRange (L. r) to sort the list Lin ascending order. Try to write a solution that runs in O(n + r) asymptotic complexity.\n",
        "\n",
        "Sample Input:\n",
        "\n",
        "L: 2, 0, 1, 1, 2, 3, 0, 2, 1, 0, 2, 3, 1, 2\n",
        "\n",
        "r: 4\n",
        "\n",
        "Sample Output:\n",
        "\n",
        "0, 0, 0, 1, 1, 1, 1, 2, 2, 2, 2, 2, 3, 3\n",
        "\n",
        "This assignment has public test cases. Please click on Test Run' button to see the status of public test cases. Assignment will be evaluated only after submitting using \"Submit\" button below. If you only test run the program, your assignment will not be graded and you will not see your score after the deadline.\n"
      ]
    },
    {
      "cell_type": "code",
      "metadata": {
        "colab": {
          "base_uri": "https://localhost:8080/"
        },
        "id": "yWAvAC1fBLO3",
        "outputId": "9463f1f6-915f-44be-ad9a-669d285a6970"
      },
      "source": [
        "data=[1,2,3,4,1,2,3,4,1,2,3,4,2,3,4]\n",
        "r=3 # 0:3\n",
        "def sort(data,r):\n",
        "  out={}\n",
        "  result=[]\n",
        "  for j in range(1,r+2):\n",
        "    out[j]=[]\n",
        "  for k in data:\n",
        "    out[k].append(k)\n",
        "  for j in range(1,r+2):\n",
        "    result.extend(out[j])\n",
        "  return result\n",
        "sort(data,r)"
      ],
      "execution_count": 29,
      "outputs": [
        {
          "output_type": "execute_result",
          "data": {
            "text/plain": [
              "[1, 1, 1, 2, 2, 2, 2, 3, 3, 3, 3, 4, 4, 4, 4]"
            ]
          },
          "metadata": {},
          "execution_count": 29
        }
      ]
    },
    {
      "cell_type": "markdown",
      "metadata": {
        "id": "ipJLv6TlCLjb"
      },
      "source": [
        "Write a Python function combinationSort(strList) that takes a list of unique strings strList as an argument, where each string is a combination of a letter from a to z and a number from 0 to 99, the initial character in string being the letter. For example a23, d5, 999 are some strings in this format. This function should sorts the list and return two lists (L1, L2) in the order mentioned below.\n",
        "\n",
        "L1: First list should contain all strings sorted in ascending order with respect to the first character only. All strings with same initial character should be in the same order as in the original list. L2: In the list L1 above, so the strings starting with same character, in descending order with respect to the number formed by the remaining characters.\n",
        "\n",
        "Example:\n",
        "\n",
        "Sample input 1:\n",
        "\n",
        "d34, 954, d12, b87, gl, c65, 940, g5, d77\n",
        "\n",
        "Sample output 1:"
      ]
    },
    {
      "cell_type": "code",
      "metadata": {
        "colab": {
          "base_uri": "https://localhost:8080/"
        },
        "id": "xFn3vQHOBLWm",
        "outputId": "8428cea5-b6d2-455f-ac3d-abdb18b7d99a"
      },
      "source": [
        "track=False\n",
        "def quick(data,s,f,i):\n",
        "  global track\n",
        "  if f-s<=1 and :\n",
        "    return data\n",
        "  if track:\n",
        "    new=0\n",
        "    for j in range(0,len(data)-1):\n",
        "      if data[j][0]!=data[j+1][0]:\n",
        "        quick(data,new,j,1)\n",
        "        new=j\n",
        "    return data\n",
        "\n",
        "  pivot=data[s][i]\n",
        "  lower=s+1\n",
        "  for j in range(s+1,f):\n",
        "    if track:\n",
        "      pivot=data[s][i:]\n",
        "      if int(data[j][i:])<int(pivot):\n",
        "        data[j],data[lower]=data[lower],data[j]\n",
        "        lower+=1\n",
        "    elif data[j][i]<pivot:\n",
        "      data[j],data[lower]=data[lower],data[j]\n",
        "      lower+=1\n",
        "    else:\n",
        "      pass\n",
        "  data[s],data[lower-1]=data[lower-1],data[s]\n",
        "  lower-=1\n",
        "  quick(data,s,lower+1,i)\n",
        "  quick(data,lower+1,f,i)\n",
        "  if  track:\n",
        "    return data\n",
        "  track=True\n",
        "  quick(data,0,len(data),1)\n",
        "  return  data\n",
        "data=[\"a212\",\"b23\",\"w33\",\"a35\"]\n",
        "quick(data,0,len(data),0)\n"
      ],
      "execution_count": 44,
      "outputs": [
        {
          "output_type": "stream",
          "name": "stdout",
          "text": [
            "hii\n"
          ]
        },
        {
          "output_type": "execute_result",
          "data": {
            "text/plain": [
              "['a212', 'a35', 'b23', 'w33']"
            ]
          },
          "metadata": {},
          "execution_count": 44
        }
      ]
    },
    {
      "cell_type": "code",
      "metadata": {
        "id": "SqCDFuWwBLaG"
      },
      "source": [
        "# gpa 2"
      ],
      "execution_count": 1,
      "outputs": []
    },
    {
      "cell_type": "code",
      "metadata": {
        "colab": {
          "base_uri": "https://localhost:8080/"
        },
        "id": "kG2UKwJ8bBoD",
        "outputId": "4829f277-7b03-4d99-8e09-e129fa21efa3"
      },
      "source": [
        "min=None\n",
        "def gpa2(data):\n",
        "  global min\n",
        "  l=len(data)\n",
        "  if l<=1: \n",
        "    min=data\n",
        "    return \n",
        "  m=l//2\n",
        "  if data[m-1]<data[m+1]:\n",
        "    gpa2(data[m+1:])\n",
        "  if data[m-1]>data[m+1]:\n",
        "    if data[m-1]>data[m]:\n",
        "      min=data[m-1]\n",
        "      return\n",
        "    else:\n",
        "      min=data[m]\n",
        "      return \n",
        "    gpa2(data[:m])\n",
        "  return  \n",
        "data=[4,5,6,7,8,9,10,2]\n",
        "gpa2(data)\n",
        "min"
      ],
      "execution_count": 9,
      "outputs": [
        {
          "output_type": "execute_result",
          "data": {
            "text/plain": [
              "10"
            ]
          },
          "metadata": {},
          "execution_count": 9
        }
      ]
    },
    {
      "cell_type": "code",
      "metadata": {
        "id": "n6Q3aZWUbBpa"
      },
      "source": [
        "# gpa3\n"
      ],
      "execution_count": 10,
      "outputs": []
    },
    {
      "cell_type": "code",
      "metadata": {
        "colab": {
          "base_uri": "https://localhost:8080/"
        },
        "id": "Y9FI-lyAbBrP",
        "outputId": "60e58c83-424a-441a-d4a2-b8ac1a4ee0f2"
      },
      "source": [
        "d1=[2,4,6,9,13,15]\n",
        "d2=[1,3,5,10]\n",
        "def merge(d1,d2):\n",
        "  start=0\n",
        "  while start<len(d1):\n",
        "    if d1[start]>d2[0]:\n",
        "      \n",
        "      f=d1[start]\n",
        "      s=d2[0]\n",
        "      d1[start]=s\n",
        "      d2[0]=f\n",
        "      start+=1\n",
        "      next=0\n",
        "      while d2[next]>d2[next+1]:\n",
        "        d2[next],d2[next+1]=d2[next+1],d2[next]\n",
        "        next+=1\n",
        "        if next >=len(d2)-1:\n",
        "          break\n",
        "  return d1,d2\n",
        "merge(d1,d2)\n"
      ],
      "execution_count": 21,
      "outputs": [
        {
          "output_type": "stream",
          "name": "stdout",
          "text": [
            "4 1 2 [3, 4, 5, 10]\n",
            "6 1 3 [4, 6, 5, 10]\n",
            "6 2 3 [4, 5, 6, 10]\n",
            "9 1 4 [5, 9, 6, 10]\n",
            "9 2 4 [5, 6, 9, 10]\n",
            "13 1 5 [6, 13, 9, 10]\n",
            "13 2 5 [6, 9, 13, 10]\n",
            "13 3 5 [6, 9, 10, 13]\n",
            "15 1 6 [9, 15, 10, 13]\n",
            "15 2 6 [9, 10, 15, 13]\n",
            "15 3 6 [9, 10, 13, 15]\n"
          ]
        },
        {
          "output_type": "execute_result",
          "data": {
            "text/plain": [
              "([1, 2, 3, 4, 5, 6], [9, 10, 13, 15])"
            ]
          },
          "metadata": {},
          "execution_count": 21
        }
      ]
    },
    {
      "cell_type": "code",
      "metadata": {
        "id": "BshYodNibBu_"
      },
      "source": [
        "d1=[10,5,6,9,13,15]\n",
        "d2=[1,2,3,4]"
      ],
      "execution_count": null,
      "outputs": []
    },
    {
      "cell_type": "code",
      "metadata": {
        "id": "UVicyR2jbBwd"
      },
      "source": [
        ""
      ],
      "execution_count": null,
      "outputs": []
    },
    {
      "cell_type": "code",
      "metadata": {
        "id": "qs5yHhr4bByC"
      },
      "source": [
        ""
      ],
      "execution_count": null,
      "outputs": []
    },
    {
      "cell_type": "code",
      "metadata": {
        "id": "Ls_pAXPAbB5F"
      },
      "source": [
        ""
      ],
      "execution_count": null,
      "outputs": []
    },
    {
      "cell_type": "code",
      "metadata": {
        "id": "HNEREt_KbB7N"
      },
      "source": [
        ""
      ],
      "execution_count": null,
      "outputs": []
    },
    {
      "cell_type": "code",
      "metadata": {
        "id": "BEw-c06TbB-z"
      },
      "source": [
        ""
      ],
      "execution_count": null,
      "outputs": []
    }
  ]
}