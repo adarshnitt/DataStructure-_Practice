{
  "nbformat": 4,
  "nbformat_minor": 0,
  "metadata": {
    "colab": {
      "name": "week 3.ipynb",
      "provenance": [],
      "include_colab_link": true
    },
    "kernelspec": {
      "name": "python3",
      "display_name": "Python 3"
    },
    "language_info": {
      "name": "python"
    }
  },
  "cells": [
    {
      "cell_type": "markdown",
      "metadata": {
        "id": "view-in-github",
        "colab_type": "text"
      },
      "source": [
        "<a href=\"https://colab.research.google.com/github/adarshnitt/DataStructure-_Practice/blob/main/week_3.ipynb\" target=\"_parent\"><img src=\"https://colab.research.google.com/assets/colab-badge.svg\" alt=\"Open In Colab\"/></a>"
      ]
    },
    {
      "cell_type": "code",
      "metadata": {
        "colab": {
          "base_uri": "https://localhost:8080/",
          "height": 369
        },
        "id": "9yV8SxUki_Tb",
        "outputId": "96133224-7114-45c7-bc4f-c844508d786d"
      },
      "source": [
        "class node:\n",
        "  def __init__(self,data=None):\n",
        "    self.data=data\n",
        "    self.left=None\n",
        "    self.right=None\n",
        "  def link(self):\n",
        "    self.start=None\n",
        "    self.end=None\n",
        "  def insert(self,n):\n",
        "    while self!=None:\n",
        "      print(self)\n",
        "      self=self.right\n",
        "    new=node(n)\n",
        "    self=new\n",
        "    self.left.right=new\n",
        "    \n",
        "    return\n",
        "  def travel(self):\n",
        "    while self!=None:\n",
        "      print(self.data)\n",
        "      self=self.right\n",
        "      print(self)\n",
        "    return\n",
        "a=node(1)\n",
        "a.insert(2)\n",
        "a.travel()"
      ],
      "execution_count": null,
      "outputs": [
        {
          "output_type": "stream",
          "name": "stdout",
          "text": [
            "<__main__.node object at 0x7f8ffe5acdd0>\n"
          ]
        },
        {
          "output_type": "error",
          "ename": "AttributeError",
          "evalue": "ignored",
          "traceback": [
            "\u001b[0;31m---------------------------------------------------------------------------\u001b[0m",
            "\u001b[0;31mAttributeError\u001b[0m                            Traceback (most recent call last)",
            "\u001b[0;32m<ipython-input-7-072f2d50c153>\u001b[0m in \u001b[0;36m<module>\u001b[0;34m()\u001b[0m\n\u001b[1;32m     23\u001b[0m     \u001b[0;32mreturn\u001b[0m\u001b[0;34m\u001b[0m\u001b[0;34m\u001b[0m\u001b[0m\n\u001b[1;32m     24\u001b[0m \u001b[0ma\u001b[0m\u001b[0;34m=\u001b[0m\u001b[0mnode\u001b[0m\u001b[0;34m(\u001b[0m\u001b[0;36m1\u001b[0m\u001b[0;34m)\u001b[0m\u001b[0;34m\u001b[0m\u001b[0;34m\u001b[0m\u001b[0m\n\u001b[0;32m---> 25\u001b[0;31m \u001b[0ma\u001b[0m\u001b[0;34m.\u001b[0m\u001b[0minsert\u001b[0m\u001b[0;34m(\u001b[0m\u001b[0;36m2\u001b[0m\u001b[0;34m)\u001b[0m\u001b[0;34m\u001b[0m\u001b[0;34m\u001b[0m\u001b[0m\n\u001b[0m\u001b[1;32m     26\u001b[0m \u001b[0ma\u001b[0m\u001b[0;34m.\u001b[0m\u001b[0mtravel\u001b[0m\u001b[0;34m(\u001b[0m\u001b[0;34m)\u001b[0m\u001b[0;34m\u001b[0m\u001b[0;34m\u001b[0m\u001b[0m\n",
            "\u001b[0;32m<ipython-input-7-072f2d50c153>\u001b[0m in \u001b[0;36minsert\u001b[0;34m(self, n)\u001b[0m\n\u001b[1;32m     13\u001b[0m     \u001b[0mnew\u001b[0m\u001b[0;34m=\u001b[0m\u001b[0mnode\u001b[0m\u001b[0;34m(\u001b[0m\u001b[0mn\u001b[0m\u001b[0;34m)\u001b[0m\u001b[0;34m\u001b[0m\u001b[0;34m\u001b[0m\u001b[0m\n\u001b[1;32m     14\u001b[0m     \u001b[0mself\u001b[0m\u001b[0;34m=\u001b[0m\u001b[0mnew\u001b[0m\u001b[0;34m\u001b[0m\u001b[0;34m\u001b[0m\u001b[0m\n\u001b[0;32m---> 15\u001b[0;31m     \u001b[0mself\u001b[0m\u001b[0;34m.\u001b[0m\u001b[0mleft\u001b[0m\u001b[0;34m.\u001b[0m\u001b[0mright\u001b[0m\u001b[0;34m=\u001b[0m\u001b[0mnew\u001b[0m\u001b[0;34m\u001b[0m\u001b[0;34m\u001b[0m\u001b[0m\n\u001b[0m\u001b[1;32m     16\u001b[0m \u001b[0;34m\u001b[0m\u001b[0m\n\u001b[1;32m     17\u001b[0m     \u001b[0;32mreturn\u001b[0m\u001b[0;34m\u001b[0m\u001b[0;34m\u001b[0m\u001b[0m\n",
            "\u001b[0;31mAttributeError\u001b[0m: 'NoneType' object has no attribute 'right'"
          ]
        }
      ]
    },
    {
      "cell_type": "code",
      "metadata": {
        "id": "TQwMgoa7CjAK",
        "outputId": "b40bb28b-38c5-4b3e-85af-5d9671f4f85c",
        "colab": {
          "base_uri": "https://localhost:8080/"
        }
      },
      "source": [
        "data=[1,5,6,8,9,12]\n",
        "pipe=[1,9]\n",
        "def find(data,pipe):\n",
        "  min=0\n",
        "  pipe_current=0\n",
        "  if len(pipe)==1:\n",
        "    min=max((pipe[0]-data[0]),(data[-1]-pipe[0]))\n",
        "    return min\n",
        "  for j in data:\n",
        "    if pipe[pipe_current]>=j:\n",
        "      min=max(min,(pipe[pipe_current]-j))\n",
        "    else:\n",
        "      if pipe_current>=len(pipe)-1:\n",
        "        #print(min,pipe_current)\n",
        "        min=max(min,(data[-1]-pipe[pipe_current]))\n",
        "        return min\n",
        "      else:\n",
        "        if abs(pipe[pipe_current+1]-j)<abs(pipe[pipe_current]-j):\n",
        "          #print(\"hii\")\n",
        "          if abs(pipe[pipe_current+1]-j)>min:\n",
        "            min=abs(pipe[pipe_current+1]-j)\n",
        "          pipe_current+=1\n",
        "        else:\n",
        "          #print(\"kk\")\n",
        "          min=max(min,abs(pipe[pipe_current]-j))\n",
        "  return min\n",
        "find(data,pipe)"
      ],
      "execution_count": 17,
      "outputs": [
        {
          "output_type": "execute_result",
          "data": {
            "text/plain": [
              "4"
            ]
          },
          "metadata": {},
          "execution_count": 17
        }
      ]
    }
  ]
}