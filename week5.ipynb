{
  "nbformat": 4,
  "nbformat_minor": 0,
  "metadata": {
    "colab": {
      "name": "Untitled5.ipynb",
      "provenance": [],
      "authorship_tag": "ABX9TyOpczf2kNsbIJ/AbtFxpwcB",
      "include_colab_link": true
    },
    "kernelspec": {
      "name": "python3",
      "display_name": "Python 3"
    },
    "language_info": {
      "name": "python"
    }
  },
  "cells": [
    {
      "cell_type": "markdown",
      "metadata": {
        "id": "view-in-github",
        "colab_type": "text"
      },
      "source": [
        "<a href=\"https://colab.research.google.com/github/adarshnitt/DataStructure-_Practice/blob/main/week5.ipynb\" target=\"_parent\"><img src=\"https://colab.research.google.com/assets/colab-badge.svg\" alt=\"Open In Colab\"/></a>"
      ]
    },
    {
      "cell_type": "code",
      "metadata": {
        "colab": {
          "base_uri": "https://localhost:8080/"
        },
        "id": "P94b9M0XWrGv",
        "outputId": "f6495df1-3a42-41f2-a5ee-88b4980a4b08"
      },
      "source": [
        "data=[(0,2,50),(0,1,10),(0,3,300),(2,1,30),(1,3,40),(1,6,65),(5,6,45),(2,5,76),(5,4,20),(6,4,37),(3,4,60)]\n",
        "visited={}\n",
        "for j in data:\n",
        "  if j[0] not in visited.keys():\n",
        "    visited[j[0]]=[(j[1],j[2])]\n",
        "  else:\n",
        "    visited[j[0]].append((j[1],j[2]))\n",
        "  if j[1] not in visited.keys():\n",
        "    visited[j[1]]=[(j[0],j[-1])]\n",
        "  else:\n",
        "    visited[j[1]].append((j[0],j[-1]))\n",
        "visited"
      ],
      "execution_count": 11,
      "outputs": [
        {
          "output_type": "execute_result",
          "data": {
            "text/plain": [
              "{0: [(2, 50), (1, 10), (3, 300)],\n",
              " 1: [(0, 10), (2, 30), (3, 40), (6, 65)],\n",
              " 2: [(0, 50), (1, 30), (5, 76)],\n",
              " 3: [(0, 300), (1, 40), (4, 60)],\n",
              " 4: [(5, 20), (6, 37), (3, 60)],\n",
              " 5: [(6, 45), (2, 76), (4, 20)],\n",
              " 6: [(1, 65), (5, 45), (4, 37)]}"
            ]
          },
          "metadata": {},
          "execution_count": 11
        }
      ]
    },
    {
      "cell_type": "code",
      "metadata": {
        "colab": {
          "base_uri": "https://localhost:8080/"
        },
        "id": "C7tEWXHNYmle",
        "outputId": "2c25fea5-7002-42d8-c3a2-edb41e663df0"
      },
      "source": [
        "final=[]\n",
        "min=None\n",
        "def find(node,stop):\n",
        "  global final\n",
        "  global data\n",
        "  global visited\n",
        "  global min\n",
        "  if final==[]:\n",
        "    target=[0,node]\n",
        "  else:\n",
        "    for j in final:\n",
        "      if j[-1]==node:\n",
        "        target=j\n",
        "        final.remove(target)\n",
        "  for j in visited[node]:\n",
        "    c=target.copy()\n",
        "    if j[0] not in c:\n",
        "      c.append(j[0])\n",
        "      c[0]+=j[1]\n",
        "      #print(min,j)\n",
        "      if j[0]==stop:\n",
        "        if min :\n",
        "          if c[0]<min:\n",
        "            min=c[0]\n",
        "            final.append(c)\n",
        "        else:\n",
        "          min=c[0]\n",
        "          #final.append(c)\n",
        "      else:\n",
        "        final.append(c)\n",
        "        find(j[0],stop)  \n",
        "              \n",
        "  return min\n",
        "find(1,5)\n",
        "\n",
        "\n"
      ],
      "execution_count": 19,
      "outputs": [
        {
          "output_type": "execute_result",
          "data": {
            "text/plain": [
              "106"
            ]
          },
          "metadata": {},
          "execution_count": 19
        }
      ]
    },
    {
      "cell_type": "code",
      "metadata": {
        "id": "lSlR2MxSYmn3"
      },
      "source": [
        ""
      ],
      "execution_count": null,
      "outputs": []
    },
    {
      "cell_type": "code",
      "metadata": {
        "id": "loKHO8ugYmqN"
      },
      "source": [
        ""
      ],
      "execution_count": null,
      "outputs": []
    },
    {
      "cell_type": "code",
      "metadata": {
        "id": "kowr-17DYmty"
      },
      "source": [
        ""
      ],
      "execution_count": null,
      "outputs": []
    }
  ]
}