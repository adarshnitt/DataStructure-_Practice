{
  "nbformat": 4,
  "nbformat_minor": 0,
  "metadata": {
    "colab": {
      "name": "week5.ipynb",
      "provenance": [],
      "authorship_tag": "ABX9TyMnAi8i6OVFBjJ91ZMUXPG2",
      "include_colab_link": true
    },
    "kernelspec": {
      "name": "python3",
      "display_name": "Python 3"
    },
    "language_info": {
      "name": "python"
    }
  },
  "cells": [
    {
      "cell_type": "markdown",
      "metadata": {
        "id": "view-in-github",
        "colab_type": "text"
      },
      "source": [
        "<a href=\"https://colab.research.google.com/github/adarshnitt/DataStructure-_Practice/blob/main/week5.ipynb\" target=\"_parent\"><img src=\"https://colab.research.google.com/assets/colab-badge.svg\" alt=\"Open In Colab\"/></a>"
      ]
    },
    {
      "cell_type": "code",
      "metadata": {
        "colab": {
          "base_uri": "https://localhost:8080/"
        },
        "id": "P94b9M0XWrGv",
        "outputId": "f6495df1-3a42-41f2-a5ee-88b4980a4b08"
      },
      "source": [
        "data=[(0,2,50),(0,1,10),(0,3,300),(2,1,30),(1,3,40),(1,6,65),(5,6,45),(2,5,76),(5,4,20),(6,4,37),(3,4,60)]\n",
        "visited={}\n",
        "for j in data:\n",
        "  if j[0] not in visited.keys():\n",
        "    visited[j[0]]=[(j[1],j[2])]\n",
        "  else:\n",
        "    visited[j[0]].append((j[1],j[2]))\n",
        "  if j[1] not in visited.keys():\n",
        "    visited[j[1]]=[(j[0],j[-1])]\n",
        "  else:\n",
        "    visited[j[1]].append((j[0],j[-1]))\n",
        "visited"
      ],
      "execution_count": null,
      "outputs": [
        {
          "output_type": "execute_result",
          "data": {
            "text/plain": [
              "{0: [(2, 50), (1, 10), (3, 300)],\n",
              " 1: [(0, 10), (2, 30), (3, 40), (6, 65)],\n",
              " 2: [(0, 50), (1, 30), (5, 76)],\n",
              " 3: [(0, 300), (1, 40), (4, 60)],\n",
              " 4: [(5, 20), (6, 37), (3, 60)],\n",
              " 5: [(6, 45), (2, 76), (4, 20)],\n",
              " 6: [(1, 65), (5, 45), (4, 37)]}"
            ]
          },
          "metadata": {},
          "execution_count": 11
        }
      ]
    },
    {
      "cell_type": "code",
      "metadata": {
        "colab": {
          "base_uri": "https://localhost:8080/"
        },
        "id": "C7tEWXHNYmle",
        "outputId": "2c25fea5-7002-42d8-c3a2-edb41e663df0"
      },
      "source": [
        "final=[]\n",
        "min=None\n",
        "def find(node,stop):\n",
        "  global final\n",
        "  global data\n",
        "  global visited\n",
        "  global min\n",
        "  if final==[]:\n",
        "    target=[0,node]\n",
        "  else:\n",
        "    for j in final:\n",
        "      if j[-1]==node:\n",
        "        target=j\n",
        "        final.remove(target)\n",
        "  for j in visited[node]:\n",
        "    c=target.copy()\n",
        "    if j[0] not in c:\n",
        "      c.append(j[0])\n",
        "      c[0]+=j[1]\n",
        "      #print(min,j)\n",
        "      if j[0]==stop:\n",
        "        if min :\n",
        "          if c[0]<min:\n",
        "            min=c[0]\n",
        "            final.append(c)\n",
        "        else:\n",
        "          min=c[0]\n",
        "          #final.append(c)\n",
        "      else:\n",
        "        final.append(c)\n",
        "        find(j[0],stop)  \n",
        "              \n",
        "  return min\n",
        "find(1,5)"
      ],
      "execution_count": null,
      "outputs": [
        {
          "output_type": "execute_result",
          "data": {
            "text/plain": [
              "106"
            ]
          },
          "metadata": {},
          "execution_count": 19
        }
      ]
    },
    {
      "cell_type": "markdown",
      "metadata": {
        "id": "9jjAD7vQUClK"
      },
      "source": [
        "Krusghlas algo"
      ]
    },
    {
      "cell_type": "code",
      "metadata": {
        "colab": {
          "base_uri": "https://localhost:8080/"
        },
        "id": "lSlR2MxSYmn3",
        "outputId": "854c952e-2ad0-487e-8bf9-d24a04f7dd84"
      },
      "source": [
        "#data=[(0,1,10),(0,3,300),(5,6,45),(2,1,30),(6,4,37),(1,6,65),(2,5,76),(1,3,40),(3,4,60),(2,4,20)]\n",
        "data=[(0,1,1),(0,2,4),(1,2,7),(0,5,14),(0,4,12),(2,5,17),(3,5,22),(3,4,26)]\n",
        "def quick(data,s,f): # used for sorting the array\n",
        "  if f-s<=1:\n",
        "    return data\n",
        "  pivot=data[s][-1]\n",
        "  lower=s+1\n",
        "  for j in range(s+1,f):\n",
        "    if data[j][-1]<pivot:\n",
        "      data[j],data[lower]=data[lower],data[j]\n",
        "      lower+=1\n",
        "  data[s],data[lower-1]=data[lower-1],data[s]\n",
        "  lower-=1\n",
        "  quick(data,s,lower+1)\n",
        "  quick(data,lower+1,f)\n",
        "  return data\n",
        "d1=quick(data,0,len(data))\n",
        "visit={} # used to check which is parent of given string\n",
        "for j in d1:\n",
        "  visit[j[0]]=j[0]\n",
        "  visit[j[1]]=j[1]\n",
        "visit\n",
        "\n",
        "\n",
        "\n",
        "\n",
        "\n",
        "\n",
        "def condition(a,b): # check whether parent of both unit are same or not\n",
        "  global visit\n",
        "  if visit[a]==visit[b]:\n",
        "    return False\n",
        "  else:\n",
        "    return True\n",
        "def parent(a,b): # used to define the parent of both things\n",
        "  global visit\n",
        "  if visit[a]==a and visit[b]==b:\n",
        "    visit[b]=a\n",
        "    visit[a]=a\n",
        "  if visit[a]==a:\n",
        "    visit[a]=visit[b]\n",
        "    for j in  visit.keys():\n",
        "      if visit[j]==a:\n",
        "        visit[j]=visit[b]\n",
        "  if visit[b]==b:\n",
        "    visit[b]=visit[a]\n",
        "    for j in  visit.keys():\n",
        "      if visit[j]==b:\n",
        "        visit[j]=visit[a]\n",
        "  else:\n",
        "    visit[b]=visit[a]\n",
        "    for j in  visit.keys():\n",
        "      if visit[j]==b:\n",
        "        visit[j]=visit[a]\n",
        "  return visit\n",
        "\n",
        "def find(d1,visit): # main  lagorithm to find sortest path to connect al points. \n",
        "  final=[]\n",
        "  cost=0\n",
        "  for j in d1:\n",
        "    if condition(j[0],j[1]):\n",
        "      cost=cost+j[-1]\n",
        "      final.append(j)\n",
        "      parent(j[0],j[1])\n",
        "  return final,cost\n",
        "find(d1,visit)"
      ],
      "execution_count": 21,
      "outputs": [
        {
          "output_type": "execute_result",
          "data": {
            "text/plain": [
              "([(0, 1, 1), (0, 2, 4), (0, 4, 12), (0, 5, 14), (3, 5, 22)], 53)"
            ]
          },
          "metadata": {},
          "execution_count": 21
        }
      ]
    },
    {
      "cell_type": "code",
      "metadata": {
        "colab": {
          "base_uri": "https://localhost:8080/"
        },
        "id": "loKHO8ugYmqN",
        "outputId": "a31fa0e1-0c67-48c1-cb51-4c79aefc8325"
      },
      "source": [
        "data\n",
        "wlist={}\n",
        "for j in data:\n",
        "  if j[0] not in wlist.keys():\n",
        "    wlist[j[0]]=[[j[1],j[2]]]\n",
        "  else:\n",
        "    wlist[j[0]].append([j[1],j[2]])\n",
        "  if j[1] not in wlist.keys():\n",
        "    wlist[j[1]]=[[j[0],j[2]]]\n",
        "  else:\n",
        "    wlist[j[1]].append([j[0],j[2]])\n",
        "wlist"
      ],
      "execution_count": null,
      "outputs": [
        {
          "output_type": "execute_result",
          "data": {
            "text/plain": [
              "{0: [[1, 10], [3, 300]],\n",
              " 1: [[0, 10], [2, 30], [3, 40], [6, 65]],\n",
              " 2: [[4, 20], [1, 30], [5, 76]],\n",
              " 3: [[1, 40], [4, 60], [0, 300]],\n",
              " 4: [[2, 20], [6, 37], [3, 60]],\n",
              " 5: [[6, 45], [2, 76]],\n",
              " 6: [[4, 37], [5, 45], [1, 65]]}"
            ]
          },
          "metadata": {},
          "execution_count": 10
        }
      ]
    },
    {
      "cell_type": "code",
      "metadata": {
        "colab": {
          "base_uri": "https://localhost:8080/"
        },
        "id": "484DMvEJWu1n",
        "outputId": "27d26315-92a9-4039-b82e-20c03707710b"
      },
      "source": [
        "data=[(0,2,50),(0,1,10),(0,3,300),(2,1,30),(1,3,40),(1,6,65),(5,6,45),(2,5,76),(5,4,20),(6,4,37),(3,4,60)]\n",
        "visited={}\n",
        "for j in data:\n",
        "  if j[0] not in visited.keys():\n",
        "    visited[j[0]]=[(j[1],j[2])]\n",
        "  else:\n",
        "    visited[j[0]].append((j[1],j[2]))\n",
        "  if j[1] not in visited.keys():\n",
        "    visited[j[1]]=[(j[0],j[-1])]\n",
        "  else:\n",
        "    visited[j[1]].append((j[0],j[-1]))\n",
        "visited\n",
        "\n",
        "\n",
        "final=[]\n",
        "min=None\n",
        "def find(node,stop):\n",
        "  global final\n",
        "  global data\n",
        "  global visited\n",
        "  global min\n",
        "  if final==[]:\n",
        "    target=[0,node]\n",
        "  else:\n",
        "    for j in final:\n",
        "      if j[-1]==node:\n",
        "        target=j\n",
        "        final.remove(target)\n",
        "  for j in visited[node]:\n",
        "    c=target.copy()\n",
        "    if j[0] not in c:\n",
        "      c.append(j[0])\n",
        "      c[0]+=j[1]\n",
        "      #print(min,j)\n",
        "      if j[0]==stop:\n",
        "        if min :\n",
        "          if c[0]<min:\n",
        "            min=c[0]\n",
        "            final.append(c)\n",
        "        else:\n",
        "          min=c[0]\n",
        "          #final.append(c)\n",
        "      else:\n",
        "        final.append(c)\n",
        "        find(j[0],stop)  \n",
        "              \n",
        "  return min\n",
        "find(1,5)"
      ],
      "execution_count": 1,
      "outputs": [
        {
          "output_type": "execute_result",
          "data": {
            "text/plain": [
              "106"
            ]
          },
          "metadata": {},
          "execution_count": 1
        }
      ]
    },
    {
      "cell_type": "code",
      "metadata": {
        "id": "UfKmP8HDWu3d"
      },
      "source": [
        ""
      ],
      "execution_count": null,
      "outputs": []
    },
    {
      "cell_type": "code",
      "metadata": {
        "id": "1p3LSm7GWu5M"
      },
      "source": [
        ""
      ],
      "execution_count": null,
      "outputs": []
    },
    {
      "cell_type": "code",
      "metadata": {
        "id": "BbV-pJatWu7X"
      },
      "source": [
        ""
      ],
      "execution_count": null,
      "outputs": []
    },
    {
      "cell_type": "code",
      "metadata": {
        "id": "EIK2AE_tWu8x"
      },
      "source": [
        ""
      ],
      "execution_count": null,
      "outputs": []
    },
    {
      "cell_type": "code",
      "metadata": {
        "id": "9XBrjPokWu-r"
      },
      "source": [
        ""
      ],
      "execution_count": null,
      "outputs": []
    },
    {
      "cell_type": "code",
      "metadata": {
        "id": "X3Hvz4QcWvCW"
      },
      "source": [
        ""
      ],
      "execution_count": null,
      "outputs": []
    }
  ]
}