{
  "nbformat": 4,
  "nbformat_minor": 0,
  "metadata": {
    "colab": {
      "name": "week-4.ipynb",
      "provenance": [],
      "authorship_tag": "ABX9TyNEPGGns8mqPjahHxMNFxaX",
      "include_colab_link": true
    },
    "kernelspec": {
      "name": "python3",
      "display_name": "Python 3"
    },
    "language_info": {
      "name": "python"
    }
  },
  "cells": [
    {
      "cell_type": "markdown",
      "metadata": {
        "id": "view-in-github",
        "colab_type": "text"
      },
      "source": [
        "<a href=\"https://colab.research.google.com/github/adarshnitt/DataStructure-_Practice/blob/main/week_4.ipynb\" target=\"_parent\"><img src=\"https://colab.research.google.com/assets/colab-badge.svg\" alt=\"Open In Colab\"/></a>"
      ]
    },
    {
      "cell_type": "code",
      "metadata": {
        "colab": {
          "base_uri": "https://localhost:8080/"
        },
        "id": "QwmckWTB2_5f",
        "outputId": "7a695468-e348-4966-85fe-3f81d851f261"
      },
      "source": [
        "data=[[1,3],[3,4],[3,7],[5,6],[5,8],[5,8]]\n",
        "node={}\n",
        "visited={}\n",
        "for j in data:\n",
        "  visited[j[0]]=True\n",
        "  visited[j[1]]=True\n",
        "  try:\n",
        "    node[j[0]].append(j[1])\n",
        "  except:\n",
        "    node[j[0]]=[j[1]]\n",
        "  try:\n",
        "    node[j[1]].append(j[0])\n",
        "  except:\n",
        "    node[j[1]]=[j[0]]\n",
        "count=0\n",
        "def find(n):\n",
        "  global count\n",
        "  global visited\n",
        "  global node\n",
        "  visited[n]=False\n",
        "  for j in node[n]:\n",
        "    if visited[j]==True:\n",
        "      visited[j]=False\n",
        "      find(j)\n",
        "\n",
        "def final(node):\n",
        "  global visited\n",
        "  count=0\n",
        "  for j in node.keys():\n",
        "    if visited[j]==True:\n",
        "      count+=1\n",
        "      find(j)\n",
        "  return count\n",
        "final(node)"
      ],
      "execution_count": 14,
      "outputs": [
        {
          "output_type": "execute_result",
          "data": {
            "text/plain": [
              "2"
            ]
          },
          "metadata": {},
          "execution_count": 14
        }
      ]
    },
    {
      "cell_type": "code",
      "metadata": {
        "colab": {
          "base_uri": "https://localhost:8080/"
        },
        "id": "2s1i3nIO5VY8",
        "outputId": "ce17e4be-418e-418a-cfe2-b3b5091fae16"
      },
      "source": [
        "#p-2\n",
        "data={1:[4,]}"
      ],
      "execution_count": 7,
      "outputs": [
        {
          "output_type": "execute_result",
          "data": {
            "text/plain": [
              "{1: [3],\n",
              " 2: [2, 2],\n",
              " 3: [1, 4, 7],\n",
              " 4: [3],\n",
              " 5: [6, 8, 8],\n",
              " 6: [5],\n",
              " 7: [3],\n",
              " 8: [5, 5]}"
            ]
          },
          "metadata": {},
          "execution_count": 7
        }
      ]
    }
  ]
}