{
  "nbformat": 4,
  "nbformat_minor": 0,
  "metadata": {
    "colab": {
      "name": "week-4.ipynb",
      "provenance": [],
      "authorship_tag": "ABX9TyOEX09tXuaAwqKuOr9Q1jVX",
      "include_colab_link": true
    },
    "kernelspec": {
      "name": "python3",
      "display_name": "Python 3"
    },
    "language_info": {
      "name": "python"
    }
  },
  "cells": [
    {
      "cell_type": "markdown",
      "metadata": {
        "id": "view-in-github",
        "colab_type": "text"
      },
      "source": [
        "<a href=\"https://colab.research.google.com/github/adarshnitt/DataStructure-_Practice/blob/main/week_4.ipynb\" target=\"_parent\"><img src=\"https://colab.research.google.com/assets/colab-badge.svg\" alt=\"Open In Colab\"/></a>"
      ]
    },
    {
      "cell_type": "code",
      "metadata": {
        "colab": {
          "base_uri": "https://localhost:8080/"
        },
        "id": "QwmckWTB2_5f",
        "outputId": "d8f26095-a105-40f9-98d0-badc9fe95624"
      },
      "source": [
        "data=[[1,3],[3,4],[3,7],[5,6],[5,8],[5,8]]\n",
        "node={}\n",
        "visited={}\n",
        "for j in data:\n",
        "  visited[j[0]]=True\n",
        "  visited[j[1]]=True\n",
        "  try:\n",
        "    node[j[0]].append(j[1])\n",
        "  except:\n",
        "    node[j[0]]=[j[1]]\n",
        "  try:\n",
        "    node[j[1]].append(j[0])\n",
        "  except:\n",
        "    node[j[1]]=[j[0]]\n",
        "count=0\n",
        "def find(n):\n",
        "  global count\n",
        "  global visited\n",
        "  global node\n",
        "  visited[n]=False\n",
        "  for j in node[n]:\n",
        "    if visited[j]==True:\n",
        "      visited[j]=False\n",
        "      find(j)\n",
        "\n",
        "def final(node):\n",
        "  global visited\n",
        "  count=0\n",
        "  for j in node.keys():\n",
        "    if visited[j]==True:\n",
        "      count+=1\n",
        "      find(j)\n",
        "  return count\n",
        "final(node)"
      ],
      "execution_count": null,
      "outputs": [
        {
          "output_type": "execute_result",
          "data": {
            "text/plain": [
              "2"
            ]
          },
          "metadata": {},
          "execution_count": 17
        }
      ]
    },
    {
      "cell_type": "code",
      "metadata": {
        "colab": {
          "base_uri": "https://localhost:8080/"
        },
        "id": "2s1i3nIO5VY8",
        "outputId": "5e015be7-a926-46fb-fed2-a443ba120ff2"
      },
      "source": [
        "#p-2\n",
        "data={1:[4,3],4:[7,6],7:[5],5:[6,4],3:[6],6:[2],2:[3]}\n",
        "out=[]\n",
        "def route(data,s,f,c):\n",
        "  if f==c:\n",
        "    return\n",
        "  global out\n",
        "  if out==[]:\n",
        "    target=[s]\n",
        "  else:\n",
        "    for j in out:\n",
        "      if j[-1]==c:\n",
        "        target=j\n",
        "        out.remove(target)\n",
        "  for k in data[c]:\n",
        "    t1=target.copy()\n",
        "    if k not in target:\n",
        "      t1.append(k)\n",
        "      out.append(t1)\n",
        "      route(data,s,f,k)\n",
        "  return out\n",
        "node={}\n",
        "visited={}\n",
        "for j in data:\n",
        "  visited[j[0]]=True\n",
        "  visited[j[1]]=True\n",
        "  try:\n",
        "    node[j[0]].append(j[1])\n",
        "  except:\n",
        "    node[j[0]]=[j[1]]\n",
        "  try:\n",
        "    node[j[1]].append(j[0])\n",
        "  except:\n",
        "    node[j[1]]=[j[0]]\n",
        "count=0\n",
        "route(da,1,2,1)\n",
        "\n",
        "\n"
      ],
      "execution_count": null,
      "outputs": [
        {
          "output_type": "execute_result",
          "data": {
            "text/plain": [
              "[[1, 4, 7, 5, 6, 2], [1, 4, 6, 2], [1, 3, 6, 2]]"
            ]
          },
          "metadata": {},
          "execution_count": 33
        }
      ]
    },
    {
      "cell_type": "code",
      "metadata": {
        "colab": {
          "base_uri": "https://localhost:8080/"
        },
        "id": "7ecVLFu_3r8B",
        "outputId": "a7a16583-223e-4acb-c02d-0964a806cb91"
      },
      "source": [
        "data=[[\"111111111\"],\n",
        "      [\"100001101\"],[\"1000111011\"],[\"110011010\"],[\"111111111\"]]\n",
        "def points(data):\n",
        "  cordinated=[]\n",
        "  y=0\n",
        "  x=0\n",
        "  for j in data:\n",
        "    y+=1\n",
        "    x=1\n",
        "    for k in list(j[0]):\n",
        "      #print(k,j)\n",
        "      if int(k)==0:\n",
        "        cordinated.append([x,y])\n",
        "      x+=1\n",
        "  return cordinated\n",
        "d1=points(data)\n",
        "node={}\n",
        "visited={}\n",
        "for j in d1:\n",
        "  visited[j[0]]=True\n",
        "  visited[j[1]]=True\n",
        "  try:\n",
        "    if j[1] not  in j[0]:\n",
        "      node[j[0]].append(j[1])\n",
        "  except:\n",
        "    node[j[0]]=[j[1]]\n",
        "  try:\n",
        "    node[j[1]].append(j[0])\n",
        "  except:\n",
        "    node[j[1]]=[j[0]]\n",
        "count=0\n",
        "node,visited"
      ],
      "execution_count": null,
      "outputs": [
        {
          "output_type": "execute_result",
          "data": {
            "text/plain": [
              "({2: [3], 3: [4], 4: [4, 4, 7, 9], 5: [2], 7: [4], 8: [3], 9: [4]},\n",
              " {2: True, 3: True, 4: True, 5: True, 7: True, 8: True, 9: True})"
            ]
          },
          "metadata": {},
          "execution_count": 42
        }
      ]
    },
    {
      "cell_type": "code",
      "metadata": {
        "colab": {
          "base_uri": "https://localhost:8080/"
        },
        "id": "6gef8gCB3r_S",
        "outputId": "67f52e3d-542a-4fce-bd11-cd26961112bc"
      },
      "source": [
        "d1"
      ],
      "execution_count": null,
      "outputs": [
        {
          "output_type": "execute_result",
          "data": {
            "text/plain": [
              "[[1, 2],\n",
              " [2, 2],\n",
              " [3, 2],\n",
              " [4, 2],\n",
              " [7, 2],\n",
              " [1, 3],\n",
              " [2, 3],\n",
              " [3, 3],\n",
              " [7, 3],\n",
              " [2, 4],\n",
              " [3, 4],\n",
              " [6, 4],\n",
              " [8, 4]]"
            ]
          },
          "metadata": {},
          "execution_count": 37
        }
      ]
    },
    {
      "cell_type": "code",
      "metadata": {
        "id": "QG9FhCSi3sCW",
        "outputId": "5a4f93ab-bacc-4b27-8f57-3a08cd992508",
        "colab": {
          "base_uri": "https://localhost:8080/"
        }
      },
      "source": [
        "# matrix multiplicaation\n",
        "data=[[3,5],[5,9],[9,4],[4,2]]\n",
        "\n",
        "def sort(data):\n",
        "  if len(data)==1:\n",
        "    return data\n",
        "  calc=None\n",
        "  node=None\n",
        "  if calc==None:\n",
        "    calc=data[0][0]*data[0][1]*data[1][1]\n",
        "    node=[data[0],data[1]]\n",
        "  max=calc\n",
        "  for unit in range(0,len(data)-1):\n",
        "    if data[unit][0]*data[unit][1]*data[unit+1][1]< calc:\n",
        "      calc=data[unit][0]*data[unit][1]*data[unit+1][1]\n",
        "      node=[data[unit],data[unit+1]]\n",
        "  ind=data.index(node[0])\n",
        "  for j in node:\n",
        "    data.remove(j)\n",
        "  data.insert(ind,[node[0][0],node[1][1]])\n",
        "  sort(data)\n",
        "  return data\n",
        "sort(data)\n",
        "\n",
        "\n",
        "  "
      ],
      "execution_count": 6,
      "outputs": [
        {
          "output_type": "execute_result",
          "data": {
            "text/plain": [
              "[[3, 2]]"
            ]
          },
          "metadata": {},
          "execution_count": 6
        }
      ]
    },
    {
      "cell_type": "code",
      "metadata": {
        "id": "k91d7Yx83sFH"
      },
      "source": [
        ""
      ],
      "execution_count": null,
      "outputs": []
    },
    {
      "cell_type": "code",
      "metadata": {
        "id": "UEt5mCBq3sIG"
      },
      "source": [
        ""
      ],
      "execution_count": null,
      "outputs": []
    },
    {
      "cell_type": "code",
      "metadata": {
        "id": "z2eEEDK93sLk"
      },
      "source": [
        ""
      ],
      "execution_count": null,
      "outputs": []
    }
  ]
}