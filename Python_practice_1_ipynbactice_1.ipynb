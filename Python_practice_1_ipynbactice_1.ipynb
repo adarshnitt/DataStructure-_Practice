{
  "cells": [
    {
      "cell_type": "markdown",
      "metadata": {
        "id": "view-in-github",
        "colab_type": "text"
      },
      "source": [
        "<a href=\"https://colab.research.google.com/github/adarshnitt/DataStructure-_Practice/blob/main/Python_practice_1_ipynbactice_1.ipynb\" target=\"_parent\"><img src=\"https://colab.research.google.com/assets/colab-badge.svg\" alt=\"Open In Colab\"/></a>"
      ]
    },
    {
      "cell_type": "code",
      "execution_count": null,
      "metadata": {
        "colab": {
          "base_uri": "https://localhost:8080/"
        },
        "id": "ojLoNmuCh9e2",
        "outputId": "5deb94ff-3e85-4ae6-ac59-6a11149047b1"
      },
      "outputs": [
        {
          "data": {
            "text/plain": [
              "[1, 2, 3, 4, 5, 55, 90]"
            ]
          },
          "execution_count": 1,
          "metadata": {},
          "output_type": "execute_result"
        }
      ],
      "source": [
        "# firstly came pivot then lower then upper\n",
        "# lower and upper both are greater than pivot\n",
        "# new data will be from  data[0, lower] and data[lower, upper]\n",
        "\n",
        "def quick(d,l,r):\n",
        "  if r-l<=1:\n",
        "    return d\n",
        "  p=d[l]\n",
        "  lower=l+1\n",
        "  upper=l+1\n",
        "  for i in range(l+1,r):\n",
        "    if d[i]>p:\n",
        "      upper=upper+1\n",
        "    else:\n",
        "      d[i],d[lower]=d[lower],d[i]\n",
        "      lower,upper=lower+1,upper+1\n",
        "  d[l],d[lower-1]=d[lower-1],d[l]\n",
        "  lower=lower-1\n",
        "  quick(d,l,lower)\n",
        "  quick(d,lower+1,upper)\n",
        "  return d\n",
        "d=[1,2,3,4,5,55,90]\n",
        "quick(d,0,7)\n",
        "      "
      ]
    },
    {
      "cell_type": "code",
      "execution_count": null,
      "metadata": {
        "id": "HeR7n9XDLpPt"
      },
      "outputs": [],
      "source": [
        "# djkistra algo\n",
        "elem=[0,1,2,3,4,5,6]\n",
        "relation={0:[(1,10),(2,80)],1:[(0,10),(2,6),(4,20)],\n",
        "          2:[(3,70),(1,6),(0,80)],3:[(2,70)],4:[(1,20),\n",
        "                                                (5,50),(6,5)],5:[(4,50),(6,10)],6:[(4,5),(5,10)]}"
      ]
    },
    {
      "cell_type": "code",
      "execution_count": null,
      "metadata": {
        "colab": {
          "base_uri": "https://localhost:8080/"
        },
        "id": "HQa43KzbVQBM",
        "outputId": "f395f2b6-aa1c-44ff-f60e-fc1248f8ca7d"
      },
      "outputs": [
        {
          "name": "stdout",
          "output_type": "stream",
          "text": [
            "1 10\n",
            "2 80\n"
          ]
        }
      ],
      "source": [
        "for new, leng in relation[0]:\n",
        "  print(new,leng)"
      ]
    },
    {
      "cell_type": "code",
      "execution_count": null,
      "metadata": {
        "colab": {
          "base_uri": "https://localhost:8080/"
        },
        "id": "uOaaIwjCN5Du",
        "outputId": "7394f6df-e755-4999-c2fd-27a1a2b5f0bb"
      },
      "outputs": [
        {
          "data": {
            "text/plain": [
              "{0: False, 1: False, 2: False, 3: False, 4: False, 5: False, 6: False}"
            ]
          },
          "execution_count": 41,
          "metadata": {},
          "output_type": "execute_result"
        }
      ],
      "source": [
        "def start(relation,elem):\n",
        "  status={}\n",
        "  for i in elem:\n",
        "    status[i]=False\n",
        "  return status\n",
        "start(relation,elem)"
      ]
    },
    {
      "cell_type": "code",
      "execution_count": null,
      "metadata": {
        "colab": {
          "base_uri": "https://localhost:8080/"
        },
        "id": "Ywz-qNg-N5GW",
        "outputId": "66545672-0cc4-4004-8313-1e4f5e2af25c"
      },
      "outputs": [
        {
          "name": "stdout",
          "output_type": "stream",
          "text": [
            "hii [0]\n",
            "hii [0, 1]\n",
            "hii [0, 1, 2]\n",
            "hii [0, 1, 2, 4]\n",
            "hii [0, 1, 2, 4, 6]\n",
            "hii [0, 1, 2, 4, 6, 5]\n",
            "hii [0, 1, 2, 4, 6, 5, 3]\n"
          ]
        },
        {
          "data": {
            "text/plain": [
              "[0, 1, 2, 4, 6, 5, 3]"
            ]
          },
          "execution_count": 42,
          "metadata": {},
          "output_type": "execute_result"
        }
      ],
      "source": [
        "status=start(relation,elem)\n",
        "time=0\n",
        "go={}\n",
        "final=[]\n",
        "def djkrista(relation,node, time):\n",
        "  \n",
        "  global go\n",
        "  global final \n",
        "  #global time\n",
        "  global status\n",
        "  final.append(node)\n",
        "  status[node]=True\n",
        " # print(\"hii\",final)\n",
        "\n",
        "\n",
        "  for new, leng in relation[node]:\n",
        "    try:\n",
        "      old=go[new]\n",
        "      if old > (time+leng):\n",
        "        if status[new] is False:\n",
        "          go[new]=time+leng\n",
        "    except:\n",
        "      if status[new] is False:\n",
        "        go[new]=time+leng \n",
        "\n",
        "  min=100000\n",
        "  for i in list(go.keys()):\n",
        "     if status[i] is False:\n",
        "       if go[i]<min:\n",
        "         min=go[i]\n",
        "         node=i\n",
        "  time=min\n",
        "  if status[node] is False:\n",
        "    djkrista(relation,node,time)\n",
        "  return\n",
        "djkrista(relation,0,0)\n",
        "final\n"
      ]
    },
    {
      "cell_type": "code",
      "execution_count": null,
      "metadata": {
        "id": "6K2GSpqaN5I-"
      },
      "outputs": [],
      "source": [
        "# djkastra algo\n",
        "# djkistra algo\n",
        "elem=[0,1,2,3,4,5,6]\n",
        "relation={0:[(1,10),(2,80)],1:[(0,10),(2,6),(4,20)],\n",
        "          2:[(3,70),(1,6),(0,80)],3:[(2,70)],4:[(1,20),\n",
        "                                                (5,50),(6,5)],5:[(4,50),(6,10)],6:[(4,5),(5,10)]}\n",
        "\n",
        "\n",
        "\n",
        "def start(relation,elem):\n",
        "  status={}\n",
        "  for i in elem:\n",
        "    status[i]=False\n",
        "  return status\n",
        "start(relation,elem)\n",
        "\n",
        "\n",
        "status=start(relation,elem)\n",
        "time=0\n",
        "go={}\n",
        "final=[]\n",
        "def djkrista(relation,node, time):\n",
        "  \n",
        "  global go\n",
        "  global final \n",
        "  #global time\n",
        "  global status\n",
        "  final.append(node)\n",
        "  status[node]=True\n",
        " # print(\"hii\",final)\n",
        "\n",
        "\n",
        "  for new, leng in relation[node]:\n",
        "    try:\n",
        "      old=go[new]\n",
        "      if old < (time+leng):\n",
        "        if status[new] is False:\n",
        "          go[new]=time+leng\n",
        "    except:\n",
        "      if status[new] is False:\n",
        "        go[new]=time+leng \n",
        "\n",
        "  min=100000\n",
        "  for i in list(go.keys()):\n",
        "     if status[i] is False:\n",
        "       if go[i]<min:\n",
        "         min=go[i]\n",
        "         node=i\n",
        "  time=min\n",
        "  if status[node] is False:\n",
        "    djkrista(relation,node,time)\n",
        "  return\n",
        "djkrista(relation,0,0)\n",
        "final\n"
      ]
    },
    {
      "cell_type": "code",
      "execution_count": null,
      "metadata": {
        "colab": {
          "base_uri": "https://localhost:8080/"
        },
        "id": "CPlbzU6hN5Lr",
        "outputId": "873e6f00-76f9-4fcf-c887-9457c46ad370"
      },
      "outputs": [
        {
          "data": {
            "text/plain": [
              "[2, 4, 5, 6, 11, 33, 90, 111]"
            ]
          },
          "execution_count": 9,
          "metadata": {},
          "output_type": "execute_result"
        }
      ],
      "source": [
        "# prrims\n",
        "# sort\n",
        "def quick(data,s,f):\n",
        "  if (f-s)<=1:\n",
        "   # print(data[s:f],\"ooo\")\n",
        "    return \n",
        "  p=data[s]\n",
        " # print(p,s,f)\n",
        "  l=s+1\n",
        "  for i in range(s+1,f,1):\n",
        "    if data[i]<p:\n",
        "      data[i],data[l]=data[l],data[i]\n",
        "      l+=1\n",
        "  data[l-1],data[s]=data[s],data[l-1]\n",
        "  l=l-1\n",
        "  u=f\n",
        "  quick(data,s,l+1)\n",
        "  quick(data,l+1,u)\n",
        "  return data\n",
        "\n",
        "a=[11,2,33,4,5,6,111,90]\n",
        "quick(a,0,len(a))"
      ]
    },
    {
      "cell_type": "code",
      "execution_count": null,
      "metadata": {
        "colab": {
          "base_uri": "https://localhost:8080/"
        },
        "id": "Rh9bJy2STI90",
        "outputId": "2dbdb131-d66b-4bff-de69-52c3d55eee15"
      },
      "outputs": [
        {
          "data": {
            "text/plain": [
              "[(0, 1, 10),\n",
              " (2, 4, 20),\n",
              " (2, 1, 30),\n",
              " (6, 4, 37),\n",
              " (1, 3, 40),\n",
              " (5, 6, 45),\n",
              " (0, 2, 50),\n",
              " (3, 4, 60),\n",
              " (1, 6, 65),\n",
              " (2, 5, 76),\n",
              " (0, 3, 300)]"
            ]
          },
          "execution_count": 47,
          "metadata": {},
          "output_type": "execute_result"
        }
      ],
      "source": [
        "visited={}\n",
        "def quick(data,i,j):\n",
        "    if j-i<=1:\n",
        "        return \n",
        "    pivot=data[i][-1]\n",
        "    visited[data[i][0]]=False\n",
        "    visited[data[i][1]]=False\n",
        "    lower=i+1\n",
        "    upper=j\n",
        "    for k in range(i+1,j):\n",
        "        if data[k][-1]<pivot:\n",
        "          data[k],data[lower]=data[lower],data[k]\n",
        "          lower+=1 \n",
        "\n",
        "    #print(data)\n",
        "    data[i],data[lower-1]=data[lower-1],data[i]\n",
        "    lower=lower-1\n",
        "    quick(data,i,lower+1)\n",
        "    quick(data,lower+1,upper)\n",
        "    return data\n",
        "\n",
        "\n",
        "data=[(0,1,10),(0,2,50),(0,3,300),(5,6,45),(2,1,30),(6,4,37),(1,6,65),(2,5,76),\n",
        "(1,3,40),(3,4,60),(2,4,20)]\n",
        "quick(data,0,len(data))"
      ]
    },
    {
      "cell_type": "code",
      "execution_count": null,
      "metadata": {
        "id": "03RnITHcsq2l"
      },
      "outputs": [],
      "source": [
        ""
      ]
    },
    {
      "cell_type": "code",
      "execution_count": null,
      "metadata": {
        "colab": {
          "base_uri": "https://localhost:8080/"
        },
        "id": "gOWFGJsHcJeP",
        "outputId": "4724a5b2-f4a8-4ab9-96d2-1b6b84940346"
      },
      "outputs": [
        {
          "data": {
            "text/plain": [
              "{0: [(1, 10), (2, 50), (3, 300)],\n",
              " 1: [(3, 40), (6, 65)],\n",
              " 2: [(4, 20), (1, 30), (5, 76)],\n",
              " 3: [(4, 60)],\n",
              " 5: [(6, 45)],\n",
              " 6: [(4, 37)]}"
            ]
          },
          "execution_count": 64,
          "metadata": {},
          "output_type": "execute_result"
        }
      ],
      "source": [
        "new={}\n",
        "for i in data:\n",
        "  try:\n",
        "    new[i[0]].append((i[1],i[2]))\n",
        "  except:\n",
        "    new[i[0]]=[]\n",
        "    new[i[0]].append((i[2],i[1]))\n",
        "new\n",
        "def path(data,s):\n",
        "  global new\n",
        "  old=[]\n",
        "  old.append(s)\n",
        "  while old:\n",
        "    m=min(new[old[-1]])\n",
        "    \n",
        "\n"
      ]
    },
    {
      "cell_type": "code",
      "execution_count": null,
      "metadata": {
        "colab": {
          "base_uri": "https://localhost:8080/"
        },
        "id": "qJrU5Qe5gfHB",
        "outputId": "64ea14e0-7573-40d7-9f89-99d038821667"
      },
      "outputs": [
        {
          "name": "stdout",
          "output_type": "stream",
          "text": [
            "True\n",
            "True\n",
            "True\n",
            "True\n",
            "True\n",
            "True\n",
            "True\n",
            "True\n",
            "True\n",
            "True\n",
            "True\n"
          ]
        }
      ],
      "source": [
        "for i in data:\n",
        "  print(visited[i[0]]==False)"
      ]
    },
    {
      "cell_type": "code",
      "execution_count": null,
      "metadata": {
        "colab": {
          "base_uri": "https://localhost:8080/"
        },
        "id": "2Zg_sRBYN5Os",
        "outputId": "ee17849b-6628-4a50-acca-80bddc808fc2"
      },
      "outputs": [
        {
          "data": {
            "text/plain": [
              "[22, 27, 44, 1111]"
            ]
          },
          "execution_count": 25,
          "metadata": {},
          "output_type": "execute_result"
        }
      ],
      "source": [
        "def quick(data,i,j):\n",
        "  if j-i<=1:\n",
        "    return\n",
        "  lower=i+1\n",
        "  upper=j\n",
        "  pivot=data[i]\n",
        "  for k in range(i+1,j):\n",
        "    if data[k]<pivot:\n",
        "      data[k],data[lower]=data[lower],data[k]\n",
        "      lower=lower+1\n",
        "  data[i],data[lower-1]=data[lower-1],pivot\n",
        "  lower=lower-1\n",
        "  #print(data)\n",
        "  quick(data,i,lower+1)\n",
        "  quick(data,lower+1,upper)\n",
        "  return data\n",
        "data=[1111,22,27,44]\n",
        "quick(data,0,len(data))"
      ]
    },
    {
      "cell_type": "code",
      "execution_count": null,
      "metadata": {
        "colab": {
          "base_uri": "https://localhost:8080/"
        },
        "id": "QuAL8PtkN5Rd",
        "outputId": "20c7adac-24bd-4236-bbcd-39ae6527196c"
      },
      "outputs": [
        {
          "data": {
            "text/plain": [
              "[1, 2, 3]"
            ]
          },
          "execution_count": 15,
          "metadata": {},
          "output_type": "execute_result"
        }
      ],
      "source": [
        "a=[1,2,3]\n",
        "a[0:4]"
      ]
    },
    {
      "cell_type": "code",
      "execution_count": null,
      "metadata": {
        "id": "xKpjuLEt3waG"
      },
      "outputs": [],
      "source": [
        "# topological sorting\n",
        "# how work will be done, which work is ;[more prior to other one\n",
        "data={0:[2,3],1:[2,3,4],2:[7],3:[5,6],4:[6],5:[7],6:[7],7:[]}"
      ]
    },
    {
      "cell_type": "code",
      "execution_count": null,
      "metadata": {
        "id": "hwO2282i4rQp"
      },
      "outputs": [],
      "source": [
        "# code for toplogical sorting\n",
        "def prior(data):\n",
        "  indegree={}\n",
        "  zerodegree=[]\n",
        "  toposort=[]\n",
        "  for i in list(data.keys()):\n",
        "    indegree[i]=0\n",
        "  for j in list(data.keys()):\n",
        "    for k in data[j]:\n",
        "      indegree[k]=indegree[k]+1\n",
        "  for i in list(indegree.keys()):\n",
        "    if indegree[i]==0:\n",
        "      zerodegree.append(i)\n",
        "  return indegree,zerodegree,toposort"
      ]
    },
    {
      "cell_type": "code",
      "execution_count": null,
      "metadata": {
        "id": "rMSNQHwj78Lc"
      },
      "outputs": [],
      "source": [
        "indegree,zerodegree,toposort=prior(data)\n",
        "def topa(data):\n",
        "  global indegree\n",
        "  global zerodegree\n",
        "  global toposort\n",
        "  for i in zerodegree:\n",
        "    toposort.append(i)\n",
        "    indegree[i]=-1\n",
        "    zerodegree.remove(i)\n",
        "    for j in data[i]:\n",
        "      indegree[j]-=1\n",
        "  for i in list(indegree.keys()):\n",
        "    if indegree[i]==0:\n",
        "      zerodegree.append(i)\n",
        "  while len(zerodegree)!=0:\n",
        "    topa(data)\n",
        "  return"
      ]
    },
    {
      "cell_type": "code",
      "execution_count": null,
      "metadata": {
        "colab": {
          "base_uri": "https://localhost:8080/"
        },
        "id": "4AGK4qKX502l",
        "outputId": "82db6c27-b8da-4601-d3ac-6301944edabe"
      },
      "outputs": [
        {
          "data": {
            "text/plain": [
              "({0: -1, 1: -1, 2: -1, 3: -1, 4: -1, 5: -1, 6: -1, 7: -1},\n",
              " [],\n",
              " [0, 1, 1, 3, 2, 5, 4, 6, 7])"
            ]
          },
          "execution_count": 27,
          "metadata": {},
          "output_type": "execute_result"
        }
      ],
      "source": [
        "topa(data)\n",
        "indegree,zerodegree,toposort"
      ]
    },
    {
      "cell_type": "code",
      "execution_count": null,
      "metadata": {
        "id": "_92_AHhN_6Ab"
      },
      "outputs": [],
      "source": [
        "# no of linked cycles in dgraph:\n",
        "data={0:1,1:2,2:3,3:4,4: None,5:None,6:7,7:8,8:9,9:None}"
      ]
    },
    {
      "cell_type": "code",
      "execution_count": null,
      "metadata": {
        "id": "P-CIkDuZ_6CH"
      },
      "outputs": [],
      "source": [
        "def track(data):\n",
        "  visited={}\n",
        "  for i in list(data.keys()):\n",
        "    visited[i]=False\n",
        "  return visited"
      ]
    },
    {
      "cell_type": "code",
      "execution_count": null,
      "metadata": {
        "id": "92r37GLCEc-r"
      },
      "outputs": [],
      "source": [
        "visited=track(data)\n",
        "count=0\n",
        "cycle={}\n",
        "def comp(data):\n",
        "  global visited\n",
        "  global count\n",
        "  global cycle\n",
        "  for i in list(data.keys()):\n",
        "    if visited[i] is False:\n",
        "      visited[i]=True\n",
        "      try: \n",
        "        cycle[count].append(i)\n",
        "      except:\n",
        "        cycle[count]=[]\n",
        "        cycle[count].append(i)\n",
        "    if data[i] is None:\n",
        "      #print(data[i])\n",
        "      count+=1\n",
        "  return \n"
      ]
    },
    {
      "cell_type": "code",
      "execution_count": null,
      "metadata": {
        "colab": {
          "base_uri": "https://localhost:8080/"
        },
        "id": "jroVowHH_6ER",
        "outputId": "4ba2d555-9fc7-42ec-f8d0-111883e4da45"
      },
      "outputs": [
        {
          "data": {
            "text/plain": [
              "{0: [0, 1, 2, 3, 4], 1: [5], 2: [6, 7, 8, 9]}"
            ]
          },
          "execution_count": 45,
          "metadata": {},
          "output_type": "execute_result"
        }
      ],
      "source": [
        "comp(data)\n",
        "cycle"
      ]
    },
    {
      "cell_type": "code",
      "execution_count": null,
      "metadata": {
        "colab": {
          "base_uri": "https://localhost:8080/"
        },
        "id": "A7O9O9VbLhA_",
        "outputId": "af2d084b-b0df-4ac1-8699-4c9369bccd0e"
      },
      "outputs": [
        {
          "data": {
            "text/plain": [
              "({0: True, 1: True, 2: True, 3: True, 4: True, 5: True, 6: True, 7: True},\n",
              " {0: None, 1: 0, 2: 0, 3: 2, 4: 2, 5: 2, 6: 4, 7: 0},\n",
              " [0, 1, 2, 7, 3, 4, 5, 6])"
            ]
          },
          "execution_count": 13,
          "metadata": {},
          "output_type": "execute_result"
        }
      ],
      "source": [
        "# bFS\n",
        "def bfs(data,node):\n",
        "  visited={}\n",
        "  parent={}\n",
        "  out=[node]\n",
        "  for i in list(data.keys()):\n",
        "    visited[i]=False\n",
        "    parent[i]=-1\n",
        "  found=[node]\n",
        "  visited[node]=True\n",
        "  parent[node]=None\n",
        "  while found:\n",
        "    f=found.pop(0)\n",
        "    for j in data[f]:\n",
        "      if visited[j]==False:\n",
        "        found.append(j)\n",
        "        out.append(j)\n",
        "        parent[j]=f\n",
        "        visited[j]=True\n",
        "  return visited,parent,out\n",
        "bfs(data,0)"
      ]
    },
    {
      "cell_type": "code",
      "execution_count": null,
      "metadata": {
        "id": "nq-AJvlgLhEq"
      },
      "outputs": [],
      "source": [
        "data={0:[1,2,7],1:[2],2:[3,4,5],3:[7],4:[5,6],5:[6],6:[7],7:[]}"
      ]
    },
    {
      "cell_type": "code",
      "execution_count": null,
      "metadata": {
        "id": "zAQiv6bR_6IL"
      },
      "outputs": [],
      "source": [
        ""
      ]
    },
    {
      "cell_type": "code",
      "execution_count": null,
      "metadata": {
        "colab": {
          "base_uri": "https://localhost:8080/"
        },
        "id": "7_m4vcmfhuY1",
        "outputId": "8678a836-65bb-4e7a-b1df-b4386cfce70f"
      },
      "outputs": [
        {
          "data": {
            "text/plain": [
              "[2, 4, 5, 8, 10]"
            ]
          },
          "execution_count": 100,
          "metadata": {},
          "output_type": "execute_result"
        }
      ],
      "source": [
        "def quick(data,l,r):\n",
        "  if len(data[l:r])<=1:\n",
        "    return d\n",
        "  p=data[l]\n",
        "  lw=l+1\n",
        "  up=l+1\n",
        "  for i in range(l+1,r):\n",
        "    if data[i]>p:\n",
        "      up+=1\n",
        "    else:\n",
        "      data[i],data[lw]=data[lw],data[i]\n",
        "      lw+=1\n",
        "      up+=1\n",
        "  data[l],data[lw-1]=data[lw-1],data[l]\n",
        "  lw=lw-1\n",
        "  quick(data,l,lw)\n",
        "  quick(data,lw+1,up)\n",
        "  return data\n",
        "d=[1 ,2, 3, 4, 4, 5, 6, 6 ,6 ,7 ,6, 6, 6, 5, 4, 4, 3, 2, 1]\n",
        "quick(d,0,5)"
      ]
    },
    {
      "cell_type": "code",
      "execution_count": null,
      "metadata": {
        "colab": {
          "base_uri": "https://localhost:8080/"
        },
        "id": "MTYGUQy1evbj",
        "outputId": "571a7385-2a56-4741-b82b-6776c1c26147"
      },
      "outputs": [
        {
          "data": {
            "text/plain": [
              "({0: False, 1: False, 2: False}, {1: [], 2: [], 3: []})"
            ]
          },
          "execution_count": 2,
          "metadata": {},
          "output_type": "execute_result"
        }
      ],
      "source": [
        "# dfs\n",
        "def init(data):\n",
        "  visited,parent={},{}\n",
        "  for i in list(data.keys()):\n",
        "    l=len(data[i])\n",
        "    for j in range(l):\n",
        "      parent[data[i][j]]=[]\n",
        "      visited[i]=False\n",
        "  return visited,parent\n",
        "init(data)"
      ]
    },
    {
      "cell_type": "code",
      "execution_count": null,
      "metadata": {
        "id": "lEa8HeFrf34R"
      },
      "outputs": [],
      "source": [
        "visited,parent=init(data)\n",
        "def dfs(list,n):\n",
        "  global visited\n",
        "  global parent\n",
        "  visited[n]=True\n",
        "  try:\n",
        "    l=len(list[n])\n",
        "    for i in range(l):\n",
        "      parent[list[n][i]].append(n)\n",
        "      #print(list[n][i])\n",
        "      dfs(list,list[n][i])\n",
        "  except:\n",
        "    pass\n",
        "  return\n",
        "dfs(list,0)\n",
        "list?"
      ]
    },
    {
      "cell_type": "code",
      "execution_count": null,
      "metadata": {
        "colab": {
          "base_uri": "https://localhost:8080/"
        },
        "id": "W5t_XvyUeyWB",
        "outputId": "6fae053f-f2d2-4482-e843-747cf77ea80a"
      },
      "outputs": [
        {
          "data": {
            "text/plain": [
              "[0, 1, 2]"
            ]
          },
          "execution_count": 1,
          "metadata": {},
          "output_type": "execute_result"
        }
      ],
      "source": [
        "data={0:[1],\n",
        "      1:[2],\n",
        "      2:[3]}\n",
        "list(data.keys())"
      ]
    },
    {
      "cell_type": "code",
      "execution_count": null,
      "metadata": {
        "colab": {
          "base_uri": "https://localhost:8080/"
        },
        "id": "R13CPx-deyYD",
        "outputId": "dee6a927-2b1a-4c22-bf9e-8244e9456ebb"
      },
      "outputs": [
        {
          "data": {
            "text/plain": [
              "({0: True, 1: True, 2: True, 3: True}, {0: None, 1: 0, 2: 1, 3: 2})"
            ]
          },
          "execution_count": 12,
          "metadata": {},
          "output_type": "execute_result"
        }
      ],
      "source": [
        "visited,parent"
      ]
    },
    {
      "cell_type": "code",
      "execution_count": null,
      "metadata": {
        "colab": {
          "base_uri": "https://localhost:8080/"
        },
        "id": "owd6-UwdeybC",
        "outputId": "8c68165a-7580-4911-afb6-a28f85f59208"
      },
      "outputs": [
        {
          "data": {
            "text/plain": [
              "({0: True, 1: True, 2: True, 3: True}, {1: [0], 2: [1], 3: [2]})"
            ]
          },
          "execution_count": 7,
          "metadata": {},
          "output_type": "execute_result"
        }
      ],
      "source": [
        "data={0:[1],\n",
        "      1:[2],\n",
        "      2:[3]}\n",
        "\n",
        "visited,parent=init(data)\n",
        "dfs(data,0)\n",
        "visited,parent"
      ]
    },
    {
      "cell_type": "code",
      "execution_count": null,
      "metadata": {
        "colab": {
          "base_uri": "https://localhost:8080/"
        },
        "id": "lQiyecg5eyes",
        "outputId": "93aea7ae-04cd-4b59-c1f4-f6b08408bab5"
      },
      "outputs": [
        {
          "name": "stdout",
          "output_type": "stream",
          "text": [
            "1 3\n",
            "2 3\n",
            "1 4\n",
            "2 4\n",
            "3 4\n",
            "5 6\n",
            "0\n"
          ]
        }
      ],
      "source": [
        "vert=\"1 2 3 4 5 6 7 8\".split(\" \")\n",
        "vertices={}\n",
        "edge={}\n",
        "for i in vert:\n",
        "    vertices[i]=False\n",
        "    edge[i]=[]\n",
        "n=6\n",
        "\n",
        "for i in range(n):\n",
        "    d=input().split(\" \")\n",
        "    edge[d[0]].append(d[1])\n",
        "count=1\n",
        "\n",
        "def loop(data):\n",
        "    contain=[]\n",
        "    for i in list(data.keys()):\n",
        "        if visited[i] is False:\n",
        "            contain.append(i)\n",
        "            break\n",
        "    while contain:\n",
        "        elem=contain.pop(0)\n",
        "        visited[elem]=True\n",
        "        try: \n",
        "            for j in data[j]:\n",
        "                contain.append(j)\n",
        "        except:\n",
        "            continue\n",
        "    count+=1\n",
        "    loop(data)\n",
        "    return \n",
        "\n",
        "print(count)"
      ]
    },
    {
      "cell_type": "code",
      "execution_count": null,
      "metadata": {
        "id": "lD6rP4HLBq-k"
      },
      "outputs": [],
      "source": [
        "# longest path\n",
        "data={0:[2,4,3],1:[2,7],2:[5],4:[7],3:[5,7],5:[6],6:[7]}"
      ]
    },
    {
      "cell_type": "code",
      "execution_count": null,
      "metadata": {
        "colab": {
          "base_uri": "https://localhost:8080/"
        },
        "id": "4NVutjXHCcZt",
        "outputId": "34e676c2-d543-4b64-888b-290ade4683f2"
      },
      "outputs": [
        {
          "data": {
            "text/plain": [
              "{0: 0, 1: 0, 2: 1, 3: 1, 4: 1, 5: 2, 6: 3, 7: 4}"
            ]
          },
          "execution_count": 9,
          "metadata": {},
          "output_type": "execute_result"
        }
      ],
      "source": [
        "def pre(data):\n",
        "  indegree=dict(zip([i for i in list(data.keys()) ],[0]*len( list(data.keys()))))\n",
        "  for i in list(data.keys()):\n",
        "    for j in data[i]:\n",
        "      indegree[j]=indegree[i]+1\n",
        "  return indegree\n",
        "pre(data)"
      ]
    },
    {
      "cell_type": "code",
      "execution_count": null,
      "metadata": {
        "colab": {
          "base_uri": "https://localhost:8080/"
        },
        "id": "GHLkjVqKEvxz",
        "outputId": "edec084e-18ef-4efd-8477-40c047ca7dc0"
      },
      "outputs": [
        {
          "data": {
            "text/plain": [
              "({1: 2, 2: 1, 3: 1, 4: 2, 5: 2, 6: 0, 7: 1, 8: 0},\n",
              " {1: False,\n",
              "  2: False,\n",
              "  3: False,\n",
              "  4: False,\n",
              "  5: False,\n",
              "  6: False,\n",
              "  7: False,\n",
              "  8: False})"
            ]
          },
          "execution_count": 7,
          "metadata": {},
          "output_type": "execute_result"
        }
      ],
      "source": [
        "def prep(data):\n",
        "  visited={}\n",
        "  outdegree={}\n",
        "  for i in list(data.keys()):\n",
        "    visited[i]=False\n",
        "    try:\n",
        "      outdegree[i]=len(data[i])\n",
        "    except:\n",
        "      outdegree[i]=0\n",
        "  return outdegree, visited\n",
        "data={1:[2,4],2:[3],3:[5],5:[6,8],4:[3,7],7:[8],6:None,8:None}\n",
        "prep(data)"
      ]
    },
    {
      "cell_type": "code",
      "execution_count": null,
      "metadata": {
        "colab": {
          "base_uri": "https://localhost:8080/"
        },
        "id": "pTazQMR54XXZ",
        "outputId": "6add82d1-90ad-4971-b3ea-40563be8882b"
      },
      "outputs": [
        {
          "data": {
            "text/plain": [
              "[1, 2, 3, 5, 6, 8, 4, 7]"
            ]
          },
          "execution_count": 10,
          "metadata": {},
          "output_type": "execute_result"
        }
      ],
      "source": [
        "final=[]\n",
        "outdegree, visited=prep(data)\n",
        "def dfs( data, node):\n",
        "  global final\n",
        "  global outdegree\n",
        "  global visited\n",
        "  if outdegree[node]!=0 and visited[node]==False:\n",
        "    final.append(node)\n",
        "    for i in data[node]:\n",
        "      outdegree[node]-=1\n",
        "      if outdegree[node]==0:\n",
        "        visited[node]=True\n",
        "      dfs(data,i)\n",
        "  if outdegree[node]==0 and visited[node]==False:\n",
        "    final.append(node)\n",
        "  visited[node]=True\n",
        "  return\n",
        "dfs(data,1)\n",
        "final\n"
      ]
    },
    {
      "cell_type": "code",
      "execution_count": null,
      "metadata": {
        "id": "PasMGu83h9m5"
      },
      "outputs": [],
      "source": [
        "import numpy as np\n",
        "from numpy  import where"
      ]
    },
    {
      "cell_type": "code",
      "execution_count": null,
      "metadata": {
        "colab": {
          "base_uri": "https://localhost:8080/"
        },
        "id": "C4-fTWKah9qZ",
        "outputId": "2e15f2de-9640-4362-8cdb-b29f820606b3"
      },
      "outputs": [
        {
          "data": {
            "text/plain": [
              "(array([2, 4]),)"
            ]
          },
          "execution_count": 84,
          "metadata": {},
          "output_type": "execute_result"
        }
      ],
      "source": [
        "a=[True,True,True]\n",
        "b=[False,False,True,False,True]\n",
        "c=[1,2,3,4]\n",
        "\n",
        "where(b)"
      ]
    },
    {
      "cell_type": "code",
      "execution_count": null,
      "metadata": {
        "colab": {
          "base_uri": "https://localhost:8080/",
          "height": 166
        },
        "id": "JJWZQTTCddjh",
        "outputId": "2b2cf768-8765-4261-f0be-d3e61459057c"
      },
      "outputs": [
        {
          "ename": "TypeError",
          "evalue": "ignored",
          "output_type": "error",
          "traceback": [
            "\u001b[0;31m---------------------------------------------------------------------------\u001b[0m",
            "\u001b[0;31mTypeError\u001b[0m                                 Traceback (most recent call last)",
            "\u001b[0;32m<ipython-input-85-1c711d06ae39>\u001b[0m in \u001b[0;36m<module>\u001b[0;34m()\u001b[0m\n\u001b[0;32m----> 1\u001b[0;31m \u001b[0mwhere\u001b[0m\u001b[0;34m(\u001b[0m\u001b[0ma\u001b[0m\u001b[0;34m*\u001b[0m\u001b[0mb\u001b[0m\u001b[0;34m)\u001b[0m\u001b[0;34m\u001b[0m\u001b[0;34m\u001b[0m\u001b[0m\n\u001b[0m",
            "\u001b[0;31mTypeError\u001b[0m: can't multiply sequence by non-int of type 'list'"
          ]
        }
      ],
      "source": [
        "where(a*b)"
      ]
    },
    {
      "cell_type": "code",
      "execution_count": null,
      "metadata": {
        "colab": {
          "base_uri": "https://localhost:8080/"
        },
        "id": "jyJUSr9Wh9tc",
        "outputId": "28458a5f-d5fb-4fc7-ffd7-fbd021ac1e0a"
      },
      "outputs": [
        {
          "name": "stdout",
          "output_type": "stream",
          "text": [
            "[ 0  2  4  6  8 10 12 14 16 18 20 22 24 26 28 30 32 34 36 38 40 42 44 46\n",
            " 48 50 52 54 56 58 60 62 64 66 68 70 72 74 76 78 80 82 84 86 88 90 92 94\n",
            " 96 98] 50\n"
          ]
        }
      ],
      "source": [
        "import numpy as np\n",
        "x=np.arange(0,100,2)\n",
        "print(x,len(x))"
      ]
    },
    {
      "cell_type": "code",
      "execution_count": null,
      "metadata": {
        "colab": {
          "base_uri": "https://localhost:8080/"
        },
        "id": "5BA6bYQ1YaJ7",
        "outputId": "5057877e-8845-4fdd-c540-6c422aa1a4b5"
      },
      "outputs": [
        {
          "data": {
            "text/plain": [
              "array([[0., 0.],\n",
              "       [0., 0.]])"
            ]
          },
          "execution_count": 91,
          "metadata": {},
          "output_type": "execute_result"
        }
      ],
      "source": [
        "np.zeros(shape=[2,2])"
      ]
    },
    {
      "cell_type": "code",
      "execution_count": null,
      "metadata": {
        "colab": {
          "base_uri": "https://localhost:8080/"
        },
        "id": "L6JMsSeGYaNc",
        "outputId": "e0a6d2e7-6d53-47ca-d412-63265749d7e3"
      },
      "outputs": [
        {
          "data": {
            "text/plain": [
              "(array([20, 21, 22, 23, 24, 25, 26, 27, 28, 29, 30, 31, 32, 33, 34, 35, 36,\n",
              "        37, 38, 39, 40, 41, 42, 43, 44, 45, 46, 47, 48, 49]),)"
            ]
          },
          "execution_count": 74,
          "metadata": {},
          "output_type": "execute_result"
        }
      ],
      "source": [
        "s=np.where(xx)\n",
        "s"
      ]
    },
    {
      "cell_type": "code",
      "execution_count": null,
      "metadata": {
        "colab": {
          "base_uri": "https://localhost:8080/"
        },
        "id": "Q5c1eviJh9v_",
        "outputId": "822fbc92-74f5-4fe7-b83d-ce44900517d2"
      },
      "outputs": [
        {
          "data": {
            "text/plain": [
              "array([False,  True,  True,  True,  True,  True,  True,  True,  True,\n",
              "        True,  True,  True,  True,  True,  True,  True,  True,  True,\n",
              "        True,  True,  True,  True,  True,  True,  True,  True,  True,\n",
              "        True,  True,  True,  True,  True,  True,  True,  True,  True,\n",
              "        True,  True,  True,  True,  True,  True,  True,  True,  True,\n",
              "        True,  True,  True,  True,  True])"
            ]
          },
          "execution_count": 52,
          "metadata": {},
          "output_type": "execute_result"
        }
      ],
      "source": [
        "z=y*yy\n",
        "z"
      ]
    },
    {
      "cell_type": "code",
      "execution_count": null,
      "metadata": {
        "colab": {
          "base_uri": "https://localhost:8080/"
        },
        "id": "-yEvQJGnh9ye",
        "outputId": "d343af7f-f352-4423-8e88-a9d80543f120"
      },
      "outputs": [
        {
          "data": {
            "text/plain": [
              "array([ True,  True,  True,  True,  True,  True,  True,  True,  True,\n",
              "        True,  True,  True,  True,  True,  True,  True,  True,  True,\n",
              "        True,  True,  True,  True,  True,  True,  True,  True,  True,\n",
              "        True,  True,  True,  True,  True,  True,  True,  True,  True,\n",
              "        True,  True,  True,  True,  True,  True,  True,  True,  True,\n",
              "        True,  True,  True,  True,  True])"
            ]
          },
          "execution_count": 58,
          "metadata": {},
          "output_type": "execute_result"
        }
      ],
      "source": [
        "yy"
      ]
    },
    {
      "cell_type": "code",
      "execution_count": null,
      "metadata": {
        "colab": {
          "base_uri": "https://localhost:8080/"
        },
        "id": "rYu7mPHkh91f",
        "outputId": "3eed3300-5ef0-4f4f-ea5a-41ca501fb9c5"
      },
      "outputs": [
        {
          "data": {
            "text/plain": [
              "(array([ 0,  1,  2,  3,  4,  5,  6,  7,  8,  9, 10, 11, 12, 13, 14, 15, 16,\n",
              "        17, 18, 19, 20, 21, 22, 23, 24, 25, 26, 27, 28, 29, 30, 31, 32, 33,\n",
              "        34, 35, 36, 37, 38, 39, 40, 41, 42, 43, 44, 45, 46, 47, 48, 49]),)"
            ]
          },
          "execution_count": 57,
          "metadata": {},
          "output_type": "execute_result"
        }
      ],
      "source": [
        "np.where(yy)"
      ]
    },
    {
      "cell_type": "code",
      "execution_count": null,
      "metadata": {
        "id": "tZKMJxggh94c"
      },
      "outputs": [],
      "source": [
        ""
      ]
    },
    {
      "cell_type": "code",
      "execution_count": null,
      "metadata": {
        "colab": {
          "base_uri": "https://localhost:8080/"
        },
        "id": "PNMp2tc6ZwVm",
        "outputId": "d2e110c7-f66c-4814-fa33-809e34e674e4"
      },
      "outputs": [
        {
          "name": "stdout",
          "output_type": "stream",
          "text": [
            "/usr/local/lib/python3.7/dist-packages/jaxlib/cuda/nvvm/libdevice\n",
            "/usr/local/cuda-10.1/nvvm/libdevice\n",
            "/usr/local/cuda-11.0/nvvm/libdevice\n",
            "/usr/local/cuda-10.0/nvvm/libdevice\n",
            "/usr/local/cuda-10.1/nvvm/lib64/libnvvm.so\n",
            "/usr/local/cuda-11.0/nvvm/lib64/libnvvm.so\n",
            "/usr/local/cuda-10.0/nvvm/lib64/libnvvm.so\n"
          ]
        }
      ],
      "source": [
        "!find / -iname 'libdevice'\n",
        "!find / -iname 'libnvvm.so'\n"
      ]
    },
    {
      "cell_type": "code",
      "execution_count": null,
      "metadata": {
        "id": "1y9Fx7egZ28M"
      },
      "outputs": [],
      "source": [
        "import os\n",
        "os.environ['NUMBAPRO_LIBDEVICE'] = \"/usr/local/cuda-10.0/nvvm/libdevice\"\n",
        "os.environ['NUMBAPRO_NVVM'] = \"/usr/local/cuda-10.0/nvvm/lib64/libnvvm.so\""
      ]
    },
    {
      "cell_type": "code",
      "execution_count": null,
      "metadata": {
        "id": "7pDgUZbwZ64d"
      },
      "outputs": [],
      "source": [
        "import pandas as pd\n",
        "import random"
      ]
    },
    {
      "cell_type": "code",
      "execution_count": null,
      "metadata": {
        "id": "gzs_CkdYZ-hq"
      },
      "outputs": [],
      "source": [
        "a=([1,2,3],[22,33,44],[331,441,551])\n",
        "b=np.square(a)"
      ]
    },
    {
      "cell_type": "code",
      "execution_count": null,
      "metadata": {
        "id": "eQ1yP_hWbRNT"
      },
      "outputs": [],
      "source": [
        "from numba import vectorize\n",
        "import math"
      ]
    },
    {
      "cell_type": "code",
      "execution_count": null,
      "metadata": {
        "colab": {
          "base_uri": "https://localhost:8080/",
          "height": 201
        },
        "id": "j9YPS1S5bRPK",
        "outputId": "7685ae71-ea4b-4051-9784-39b6034f6ceb"
      },
      "outputs": [
        {
          "ename": "NameError",
          "evalue": "ignored",
          "output_type": "error",
          "traceback": [
            "\u001b[0;31m---------------------------------------------------------------------------\u001b[0m",
            "\u001b[0;31mNameError\u001b[0m                                 Traceback (most recent call last)",
            "\u001b[0;32m<ipython-input-16-5a7fb0f601f5>\u001b[0m in \u001b[0;36m<module>\u001b[0;34m()\u001b[0m\n\u001b[0;32m----> 1\u001b[0;31m \u001b[0;34m@\u001b[0m\u001b[0mvectorize\u001b[0m\u001b[0;34m(\u001b[0m\u001b[0;34m[\u001b[0m\u001b[0;34m(\u001b[0m\u001b[0mint64\u001b[0m\u001b[0;34m[\u001b[0m\u001b[0;34m:\u001b[0m\u001b[0;34m]\u001b[0m\u001b[0;34m,\u001b[0m\u001b[0mint64\u001b[0m\u001b[0;34m[\u001b[0m\u001b[0;34m:\u001b[0m\u001b[0;34m]\u001b[0m\u001b[0;34m)\u001b[0m\u001b[0;34m]\u001b[0m\u001b[0;34m,\u001b[0m\u001b[0;34m\"(n)->(n)\"\u001b[0m\u001b[0;34m)\u001b[0m\u001b[0;34m\u001b[0m\u001b[0;34m\u001b[0m\u001b[0m\n\u001b[0m\u001b[1;32m      2\u001b[0m \u001b[0;32mdef\u001b[0m \u001b[0ms\u001b[0m\u001b[0;34m(\u001b[0m\u001b[0mx\u001b[0m\u001b[0;34m,\u001b[0m\u001b[0my\u001b[0m\u001b[0;34m)\u001b[0m\u001b[0;34m:\u001b[0m\u001b[0;34m\u001b[0m\u001b[0;34m\u001b[0m\u001b[0m\n\u001b[1;32m      3\u001b[0m   \u001b[0my\u001b[0m\u001b[0;34m=\u001b[0m\u001b[0mnp\u001b[0m\u001b[0;34m.\u001b[0m\u001b[0msquare\u001b[0m\u001b[0;34m(\u001b[0m\u001b[0mx\u001b[0m\u001b[0;34m)\u001b[0m\u001b[0;34m\u001b[0m\u001b[0;34m\u001b[0m\u001b[0m\n",
            "\u001b[0;31mNameError\u001b[0m: name 'int64' is not defined"
          ]
        }
      ],
      "source": [
        "@vectorize([(int64[:],int64[:])],\"(n)->(n)\")\n",
        "def s(x,y):\n",
        "  y=np.square(x)\n"
      ]
    },
    {
      "cell_type": "code",
      "execution_count": null,
      "metadata": {
        "colab": {
          "base_uri": "https://localhost:8080/"
        },
        "id": "autUdDlnbRQu",
        "outputId": "1af52569-abf2-4ef4-b37e-89dff36605bd"
      },
      "outputs": [
        {
          "data": {
            "text/plain": [
              "[-9, 0, 2, 9, 999]"
            ]
          },
          "execution_count": 18,
          "metadata": {},
          "output_type": "execute_result"
        }
      ],
      "source": [
        "# 26 october 2021\n",
        "# binary tree\n",
        "\n",
        "class binary:\n",
        "  def __init__(self,v1=None):\n",
        "    self.value=v1\n",
        "    if self.value:\n",
        "      self.left=binary()\n",
        "      self.right=binary()\n",
        "    else:\n",
        "      self.left=None\n",
        "      self.right=None\n",
        "    return \n",
        "  def isleaf(self):\n",
        "    if self.left==None and self.right==None and (self.value !=None):\n",
        "      return True\n",
        "    else:\n",
        "      return False\n",
        "  def find(self,v):\n",
        "    if self==v and self:\n",
        "      return True\n",
        "    if v< self.value:\n",
        "      return sef.left.find(v)\n",
        "    else:\n",
        "      return sef.right.find(v)\n",
        "  def min(self):\n",
        "    if self.isnull():\n",
        "      return []\n",
        "    if self.left.isnull():\n",
        "      return self.value\n",
        "    else:\n",
        "      return self.left.min()\n",
        "  def max(self):\n",
        "    if self.isnull():\n",
        "      return []\n",
        "    if self.right.isnull():\n",
        "      return self.value\n",
        "    else:\n",
        "      return self.right.max()\n",
        "  def insert(self,v):\n",
        "    if self.isnull():\n",
        "      self.value=v\n",
        "      self.left=binary()\n",
        "      self.right=binary()\n",
        "    elif v< self.value:\n",
        "      if v< self.value:\n",
        "        self.left.insert(v)\n",
        "    else:\n",
        "      if v>self.value:\n",
        "        self.right.insert(v)\n",
        "  def isnull(self):\n",
        "    return (self.value==None)\n",
        "  def inorder(self):\n",
        "    if self.isnull():\n",
        "      return []\n",
        "    else:\n",
        "      self.left.inorder()\n",
        "      self.right.inorder()\n",
        "      return (self.left.inorder()+[self.value]+self.right.inorder())\n",
        "  # disaply string \n",
        "  def delete(self,v):\n",
        "    if self.isnull():\n",
        "      return\n",
        "    if v>self.value:\n",
        "      self.right.delete(v)\n",
        "    if v< self.value:\n",
        "      self.left.delete(v)\n",
        "\n",
        "    if self.value==v:\n",
        "      if self.left.value==None:\n",
        "        if self.right.value==None:\n",
        "          self.value=None\n",
        "\n",
        "        else:\n",
        "          self.value=self.right.value\n",
        "          self.right.value=None\n",
        "      else:\n",
        "        m=self.left.max()\n",
        "        self.value=m\n",
        "        self.left.delete(m)\n",
        "    return\n",
        "\n",
        "\n",
        "\n",
        "\n",
        "\n",
        " \n",
        "a=binary(7)\n",
        "a.insert(2)\n",
        "a.insert(9)\n",
        "a.insert(0)\n",
        "a.insert(999)\n",
        "a.insert(-9)\n",
        "a.delete(7)\n",
        "a.inorder()"
      ]
    },
    {
      "cell_type": "code",
      "execution_count": null,
      "metadata": {
        "id": "-iGVgKlabRSg"
      },
      "outputs": [],
      "source": [
        "# 27  october \n",
        "class tree:\n",
        "  def __init__(self, v=None):\n",
        "    self.value=v\n",
        "    if self.value:\n",
        "      self.left=tree()\n",
        "      self.right=tree()\n",
        "    else:\n",
        "      self.left=None\n",
        "      self.right=None\n",
        "    return\n",
        "  def leftrotate(self,n):\n",
        "    v=self.value\n",
        "    lf=self.left\n",
        "    lr=self.right\n",
        "    lfv=lf.value\n",
        "    lrv=self.right.value\n",
        "    lrr=self.right.right\n",
        "    lrl=self.right.left\n",
        "    self.right=lrl\n",
        "    old=self\n",
        "\n",
        "    if self.value==n:\n",
        "      new=tree()\n",
        "      new.value=lrv\n",
        "      new.right=lrr\n",
        "      new.left=old\n",
        "    return\n",
        "  \n",
        "  def rightrotate(self,n):\n",
        "    new=tree()\n",
        "    tlr=self.left.right\n",
        "    tlv=self.left.value\n",
        "    new.value=tlv\n",
        "    new.left=self.left.left\n",
        "    self.left=self.left.right\n",
        "    new.right=self.left\n",
        "  return"
      ]
    },
    {
      "cell_type": "code",
      "execution_count": null,
      "metadata": {
        "id": "1Woy32fobRT4"
      },
      "outputs": [],
      "source": [
        "# def union find\n",
        "data={2:[1,3],\n",
        "      1:[],\n",
        "      3:[],\n",
        "      9:[],\n",
        "      5:[6],\n",
        "      6:[],\n",
        "      7:[5],\n",
        "      4:[7],\n",
        "      8:[4,5]}\n",
        "parent={}\n",
        "indegree={}\n",
        "for i in data.keys():\n",
        "  parent[i]=i\n",
        "  indegree[i]=0\n"
      ]
    },
    {
      "cell_type": "code",
      "execution_count": null,
      "metadata": {
        "colab": {
          "base_uri": "https://localhost:8080/"
        },
        "id": "LJ5eBxegNtke",
        "outputId": "ab2208ee-079a-4b40-9539-e1bb6e27b8af"
      },
      "outputs": [
        {
          "data": {
            "text/plain": [
              "{1: 1, 2: 2, 3: 3, 4: 4, 5: 5, 6: 6, 7: 7, 8: 8, 9: 9}"
            ]
          },
          "execution_count": 27,
          "metadata": {},
          "output_type": "execute_result"
        }
      ],
      "source": [
        "parent"
      ]
    },
    {
      "cell_type": "code",
      "execution_count": null,
      "metadata": {
        "colab": {
          "base_uri": "https://localhost:8080/"
        },
        "id": "nOjDvJsBN1E0",
        "outputId": "59e60f90-2c32-4fdf-f5a3-75b0ff98b01b"
      },
      "outputs": [
        {
          "data": {
            "text/plain": [
              "{1: [], 2: [1, 3], 3: [], 4: [7], 5: [6], 6: [], 7: [5], 8: [4, 5], 9: []}"
            ]
          },
          "execution_count": 28,
          "metadata": {},
          "output_type": "execute_result"
        }
      ],
      "source": [
        "data"
      ]
    },
    {
      "cell_type": "code",
      "execution_count": null,
      "metadata": {
        "colab": {
          "base_uri": "https://localhost:8080/"
        },
        "id": "VDkNOOzCjlDi",
        "outputId": "16c7be98-7a08-4df5-9992-f0a6929a6b24"
      },
      "outputs": [
        {
          "data": {
            "text/plain": [
              "{1: 0, 2: 0, 3: 0, 4: 0, 5: 0, 6: 0, 7: 0, 8: 0, 9: 0}"
            ]
          },
          "execution_count": 7,
          "metadata": {},
          "output_type": "execute_result"
        }
      ],
      "source": [
        "indegree"
      ]
    },
    {
      "cell_type": "code",
      "execution_count": null,
      "metadata": {
        "colab": {
          "base_uri": "https://localhost:8080/"
        },
        "id": "2xa_ow5YbRVt",
        "outputId": "6bdf4da3-bb37-4c62-ac69-a829fe48d05b"
      },
      "outputs": [
        {
          "data": {
            "text/plain": [
              "{2, 8}"
            ]
          },
          "execution_count": 36,
          "metadata": {},
          "output_type": "execute_result"
        }
      ],
      "source": [
        "# union find\n",
        "def find(n):\n",
        "  global parent\n",
        "  if parent[n]==n:\n",
        "    return n\n",
        "  else:\n",
        "    return find(parent[n])\n",
        "def union(data):\n",
        "  global parent\n",
        "  for i in data.keys():\n",
        "    #print(i,parent)\n",
        "    for j in data[i]:\n",
        "      parent[j]=find(i)\n",
        "  unique=set()\n",
        "  for i in data.keys():\n",
        "    for j in data[i]:\n",
        "    \n",
        "      x=find(i)\n",
        "      parent[j]=x\n",
        "      unique.add(x)\n",
        "  \n",
        "  return unique\n",
        "union(data)"
      ]
    },
    {
      "cell_type": "code",
      "execution_count": null,
      "metadata": {
        "colab": {
          "base_uri": "https://localhost:8080/"
        },
        "id": "qXHPNCZPbRXW",
        "outputId": "161d1b40-33b2-400b-f55a-6254f7ba7c82"
      },
      "outputs": [
        {
          "data": {
            "text/plain": [
              "{1: 2, 2: 2, 3: 2, 4: 8, 5: 8, 6: 8, 7: 8, 8: 8, 9: 9}"
            ]
          },
          "execution_count": 34,
          "metadata": {},
          "output_type": "execute_result"
        }
      ],
      "source": [
        "parent"
      ]
    },
    {
      "cell_type": "code",
      "execution_count": null,
      "metadata": {
        "colab": {
          "base_uri": "https://localhost:8080/"
        },
        "id": "WASsd4KcbRY2",
        "outputId": "3107c228-225a-47f1-9341-13bbd61ecafe"
      },
      "outputs": [
        {
          "name": "stdout",
          "output_type": "stream",
          "text": [
            "2\n",
            "1\n",
            "3\n",
            "9\n",
            "5\n",
            "6\n",
            "7\n",
            "4\n",
            "8\n"
          ]
        }
      ],
      "source": [
        "for i in data.keys():\n",
        "  print(i)\n"
      ]
    },
    {
      "cell_type": "code",
      "execution_count": null,
      "metadata": {
        "id": "ql9sM-8FbRau"
      },
      "outputs": [],
      "source": [
        "a=[]\n",
        "for j in a:\n",
        "  print(\"hii\")\n",
        "  "
      ]
    },
    {
      "cell_type": "code",
      "execution_count": null,
      "metadata": {
        "colab": {
          "base_uri": "https://localhost:8080/"
        },
        "id": "5FaxisC2bRcc",
        "outputId": "25e2a148-2337-40be-dd06-1d25bdec2e44"
      },
      "outputs": [
        {
          "data": {
            "text/plain": [
              "False"
            ]
          },
          "execution_count": 53,
          "metadata": {},
          "output_type": "execute_result"
        }
      ],
      "source": [
        "# quick\n",
        "def quick(data,s,f):\n",
        "  if f-s<=1:\n",
        "    return data\n",
        "  lower=s+1\n",
        "  upper=f\n",
        "  pivot=data[s][0]\n",
        "  for i in range(s+1,f):\n",
        "    if data[i][0]<pivot:\n",
        "      data[lower],data[i]=data[i],data[lower]\n",
        "      lower+=1\n",
        "  data[lower-1],data[s]=data[s],data[lower-1]\n",
        "  lower=lower-1\n",
        "  quick(data,s,lower+1)\n",
        "  quick(data,lower+1,upper)\n",
        "  return data\n",
        "data=\"e28, i25, q34, m76, o23, r25, x80, x38, s89, u94, e93, m6, j69, f31, z28, o39, h11, q68, t82, t77, y84, d2, h56, u71, k11, x89, w26, d54, a19, l99, v67, f91, l55, e48, c40, l63, s41, s49, v82, i47, w95, i63, f22, c53, s24, s52, z60, n92, m98, l88, e62, z1, u32, c98, k94, k37, n42, v50, j73, w90, a78, f96, e47, c29, y87, d84, b59, l32, a56, p50, v70, r54, z95, c68, z32, d23, n18, h65, m39, k56, h64, t45, i58, d94, u76, s77, v34, k45, m22, e72, f95, y55, c9, x87, a98, l20, u29, w81, d35, z31\"\n",
        "data=data.split(\", \")\n",
        "data1=quick(data,0,len(data))\n",
        "data=\"a19, a78, a56, a98, b59, c40, c53, c98, c29, c68, c9, d2, d54, d84, d23, d94, d35, e28, e93, e48, e62, e47, e72, f31, f91, f22, f96, f95, h11, h56, h65, h64, i25, i47, i63, i58, j69, j73, k11, k94, k37, k56, k45, l99, l55, l63, l88, l32, l20, m76, m6, m98, m39, m22, n92, n42, n18, o23, o39, p50, q34, q68, r25, r54, s89, s41, s49, s24, s52, s77, t82, t77, t45, u94, u71, u32, u76, u29, v67, v82, v50, v70, v34, w26, w95, w90, w81, x80, x38, x89, x87, y84, y87, y55, z28, z60, z1, z95, z32, z31\"\n",
        "data2=data.split(\", \")\n",
        "data2==data1\n"
      ]
    },
    {
      "cell_type": "code",
      "execution_count": null,
      "metadata": {
        "colab": {
          "base_uri": "https://localhost:8080/"
        },
        "id": "4IBibvlWO-Lc",
        "outputId": "44c5afc1-9c5d-42e9-b0a3-0a595f4b9cc3"
      },
      "outputs": [
        {
          "name": "stdout",
          "output_type": "stream",
          "text": [
            "['a567', 'a45', 'a5', 'a4', 'f90', 'g78', 'h0', 't34', 't56', 't789', 'u78']\n"
          ]
        }
      ],
      "source": [
        "new={}\n",
        "k=0\n",
        "for i in range(len(data)):\n",
        "  old=data[i][0]\n",
        "  try:\n",
        "    if data[i+1][0]==old:\n",
        "      pass\n",
        "    else:\n",
        "      new[old]=[k,i+1]\n",
        "      k=i+1\n",
        "      old=data[i+1][0]\n",
        "  except:\n",
        "    pass\n",
        "print(data)\n",
        "new\n",
        "for i in new.keys():\n",
        "  quick1(data,new[i][0],new[i][1])"
      ]
    },
    {
      "cell_type": "code",
      "execution_count": null,
      "metadata": {
        "id": "6MpFIULdbReI"
      },
      "outputs": [],
      "source": [
        "def quick1(data,s,st):\n",
        "  if  st-s<=1:\n",
        "    return\n",
        "  lower=s+1\n",
        "  upper=st\n",
        "  pivot=int(data[s][1:])\n",
        "  for i in range(s+1,st):\n",
        "    if int(data[i][1:])>pivot:\n",
        "      data[i],data[lower]=data[lower],data[i]\n",
        "      lower+=1\n",
        "  data[s],data[lower-1]=data[lower-1],data[s]\n",
        "  lower-=1\n",
        "  quick1(data,s,lower+1)\n",
        "  quick1(data,lower+1,st)\n",
        "  return data\n"
      ]
    },
    {
      "cell_type": "code",
      "execution_count": null,
      "metadata": {
        "colab": {
          "base_uri": "https://localhost:8080/"
        },
        "id": "EK-ussOlbRf7",
        "outputId": "19a0e180-ab35-4c2e-904f-8f601c498c0b"
      },
      "outputs": [
        {
          "data": {
            "text/plain": [
              "True"
            ]
          },
          "execution_count": 14,
          "metadata": {},
          "output_type": "execute_result"
        }
      ],
      "source": [
        "\"12\">\"1110\""
      ]
    },
    {
      "cell_type": "code",
      "execution_count": null,
      "metadata": {
        "colab": {
          "base_uri": "https://localhost:8080/"
        },
        "id": "ngfx5p9QbRhe",
        "outputId": "c24cfd1f-fbb6-4583-d905-127f1b102bd6"
      },
      "outputs": [
        {
          "data": {
            "text/plain": [
              "6"
            ]
          },
          "execution_count": 98,
          "metadata": {},
          "output_type": "execute_result"
        }
      ],
      "source": [
        "a=[51,9,3,4,5,6,7,8]\n",
        "final=None\n",
        "def naya(data,s,sp):\n",
        "  global final\n",
        "  if sp-s<=1:\n",
        "    final=data[s]\n",
        "    return final\n",
        "  m=(sp-s)//2\n",
        " # print(m,s,sp)\n",
        "  if sp-s==2:\n",
        "    if data[sp-1]>data[s]:\n",
        "      final=data[sp-1]\n",
        "    else:\n",
        "      final=data[s]\n",
        "    return final\n",
        "  if data[m-1]<data[m] and data[m]> data[m+1]:\n",
        "    final =data[m]\n",
        "    return final\n",
        "  if data[m-1]<data[m+1]:\n",
        "    naya(data,m+1,sp)\n",
        "  else:\n",
        "    naya(data,s,m)\n",
        "  return final\n",
        "naya(a,0,len(a))"
      ]
    },
    {
      "cell_type": "code",
      "execution_count": null,
      "metadata": {
        "colab": {
          "base_uri": "https://localhost:8080/"
        },
        "id": "X78uzOgcbRjR",
        "outputId": "ae838c10-4506-44bd-844c-4bffa135ef56"
      },
      "outputs": [
        {
          "data": {
            "text/plain": [
              "[[1001, 3],\n",
              " [1002, 4],\n",
              " [1003, 3],\n",
              " [1004, 4],\n",
              " [1005, 3],\n",
              " [1006, 3],\n",
              " [1007, 4],\n",
              " [1008, 4],\n",
              " [1009, 2]]"
            ]
          },
          "execution_count": 45,
          "metadata": {},
          "output_type": "execute_result"
        }
      ],
      "source": [
        "data=[1006, 1008, 1009, 1008, 1007, 1005, 1008, 1001, 1003, 1009, 1006, 1003, 1004, 1002, 1008, 1005, 1004, 1007, 1006, 1002, 1002, 1001, 1004, 1001, 1003, 1007, 1007, 1005, 1004, 1002]\n",
        "def quick(data,s,st):\n",
        "  if st-s<=1:\n",
        "    return\n",
        "  lower=s+1\n",
        "  upper=st\n",
        "  pivot=data[s]\n",
        "  for i in range(s+1,st):\n",
        "    if data[i]<pivot:\n",
        "      data[i],data[lower]=data[lower],data[i]\n",
        "      lower+=1\n",
        "  data[s],data[lower-1]=data[lower-1],data[s]\n",
        "  lower=lower-1\n",
        "  quick(data,s,lower+1)\n",
        "  quick(data,lower+1,st)\n",
        "  return data\n",
        "data=quick(data,0,len(data))\n",
        "#nlogn\n",
        "def count(data):\n",
        "  out=[]\n",
        "  old=1\n",
        "  for i in range(len(data)-1):\n",
        "    #print(i)\n",
        "    if i+1==len(data)-1:\n",
        "      #print(\"hi\",i)\n",
        "      if data[i+1]==data[i]:\n",
        "        old+=1\n",
        "        out.append([data[i],old])\n",
        "      else:\n",
        "        out.append([data[i+1],1])\n",
        "\n",
        "    if data[i+1]==data[i]:\n",
        "      old+=1\n",
        "    else:\n",
        "      out.append([data[i],old])\n",
        "      old=1\n",
        "  return out\n",
        "data1=count(data)\n",
        "data1"
      ]
    },
    {
      "cell_type": "code",
      "execution_count": null,
      "metadata": {
        "colab": {
          "base_uri": "https://localhost:8080/"
        },
        "id": "VgHSz-bGbRlh",
        "outputId": "b3e52e4c-16ff-4fb6-de0b-fac346587aa3"
      },
      "outputs": [
        {
          "data": {
            "text/plain": [
              "[1008, 1002, 1004, 1007, 1001, 1006, 1003, 1005, 1009]"
            ]
          },
          "execution_count": 46,
          "metadata": {},
          "output_type": "execute_result"
        }
      ],
      "source": [
        "def quick(data,s,st):\n",
        "  if st-s<=1:\n",
        "    return data[s][1] \n",
        "  lower=s+1\n",
        "  upper=st\n",
        "  pivot=data[s][1]\n",
        "  for i in range(s+1,st):\n",
        "    #print(data[i])\n",
        "    if data[i][1]>pivot:\n",
        "      data[i],data[lower]=data[lower],data[i]\n",
        "      lower+=1\n",
        "  data[lower-1],data[s]=data[s],data[lower-1]\n",
        "  lower-=1\n",
        "  quick(data,s,lower+1)\n",
        "  quick(data,lower+1,st)\n",
        "  new=[]\n",
        "  for i in data:\n",
        "    new.append(i[0])\n",
        "  return new\n",
        "d=[5,4,3,2,0,888]\n",
        "b=quick(data1,0,len(data1))\n",
        "b"
      ]
    },
    {
      "cell_type": "code",
      "execution_count": null,
      "metadata": {
        "colab": {
          "base_uri": "https://localhost:8080/"
        },
        "id": "LitRbkqebRm4",
        "outputId": "d1807d94-078e-4315-934c-c504fcd5dd00"
      },
      "outputs": [
        {
          "data": {
            "text/plain": [
              "['x', 'x', 'x', 'c']"
            ]
          },
          "execution_count": 50,
          "metadata": {},
          "output_type": "execute_result"
        }
      ],
      "source": [
        "a=\"a b c\"\n",
        "a=a.split(\" \")\n",
        "a[0:2]=\"xxx\"\n",
        "a"
      ]
    },
    {
      "cell_type": "code",
      "execution_count": null,
      "metadata": {
        "colab": {
          "base_uri": "https://localhost:8080/"
        },
        "id": "Zv9K0dmlbRog",
        "outputId": "f10ed810-a6f2-47a1-e886-5fc77de1692d"
      },
      "outputs": [
        {
          "data": {
            "text/plain": [
              "[[1, 4, 7]]"
            ]
          },
          "execution_count": 19,
          "metadata": {},
          "output_type": "execute_result"
        }
      ],
      "source": [
        "# 30 october 2021\n",
        "data={2:[1,3],\n",
        "      1:[5,4],\n",
        "      3:[4],\n",
        "      9:[5],\n",
        "      5:[6],\n",
        "      6:[1],\n",
        "      7:[5,2],\n",
        "      4:[7,1,6]\n",
        "      }\n",
        "out=[]\n",
        "def path(data,s,st):\n",
        "  if st==s:\n",
        "    return\n",
        "  global out\n",
        "  try:\n",
        "    if out==[]:\n",
        "      raise\n",
        "    for i in out:\n",
        "      if i[-1]==s:\n",
        "        target=i\n",
        "        out.remove(target)\n",
        "  except:\n",
        "    target=[s]\n",
        "  for i in data[s]:\n",
        "    target1=target.copy()\n",
        "    #print(target,out)\n",
        "    if i not in target1:\n",
        "      target1.append(i)\n",
        "      out.append(target1)6\n",
        "      path(data,i,st)\n",
        "  return out\n",
        "path(data,1,7)\n"
      ]
    },
    {
      "cell_type": "code",
      "execution_count": null,
      "metadata": {
        "id": "aLo0-A_rbRr2"
      },
      "outputs": [],
      "source": [
        "# no of components in graph\n",
        "data={1:[3],\n",
        "      3:[1,7,4],\n",
        "      4:[3],\n",
        "      7:[3],\n",
        "      5:[6,8],\n",
        "      6:[5.8],\n",
        "      8:[5,6],\n",
        "      9:[]}\n",
        "visited={}\n",
        "me=list(data.keys())\n",
        "for i in data.keys():\n",
        "  visited[i]=False\n"
      ]
    },
    {
      "cell_type": "code",
      "execution_count": null,
      "metadata": {
        "colab": {
          "base_uri": "https://localhost:8080/"
        },
        "id": "B3e0rkBSuvpx",
        "outputId": "ae8113a5-7ab1-4673-96b1-47f44c1d6684"
      },
      "outputs": [
        {
          "data": {
            "text/plain": [
              "3"
            ]
          },
          "execution_count": 58,
          "metadata": {},
          "output_type": "execute_result"
        }
      ],
      "source": [
        "count=0\n",
        "data={1:[3],\n",
        "      3:[1,7,4],\n",
        "      4:[3],\n",
        "      7:[3],\n",
        "      5:[6,8],\n",
        "      6:[5,8],\n",
        "      8:[5,6],\n",
        "      9:[]}\n",
        "visited={}\n",
        "for i in data.keys():\n",
        "  visited[i]=False\n",
        "\n",
        "def path(data):\n",
        "  global visited\n",
        "  global count\n",
        "  xtra=[]\n",
        "  \n",
        "  for i in visited.keys():\n",
        "    if visited[i] ==False:\n",
        "      xtra.append(i)\n",
        "      break\n",
        "  if xtra==[]:\n",
        "    return\n",
        "  while xtra:\n",
        "    s=xtra[-1]\n",
        "    xtra.remove(s)\n",
        "    visited[s]=True\n",
        "    for i in data[s]:\n",
        "      if visited[i] == False and (i not in xtra):\n",
        "        xtra.append(i)\n",
        "  count+=1\n",
        "  path(data)\n",
        "  return \n",
        "path(data)\n",
        "count"
      ]
    },
    {
      "cell_type": "code",
      "execution_count": null,
      "metadata": {
        "colab": {
          "base_uri": "https://localhost:8080/"
        },
        "id": "NQ2qRuvjuvsA",
        "outputId": "e4c86ebd-3a7b-4435-8e46-fa64ff60ecc0"
      },
      "outputs": [
        {
          "data": {
            "text/plain": [
              "[[1, 3, 6, 2], [1, 4, 6, 2], [1, 4, 7, 5, 6, 2]]"
            ]
          },
          "execution_count": 33,
          "metadata": {},
          "output_type": "execute_result"
        }
      ],
      "source": [
        "total=[]\n",
        "def findall(data,a,b):\n",
        "  if a==b:\n",
        "    return \n",
        "  global total\n",
        "  try:\n",
        "    if total==[]:\n",
        "      raise\n",
        "    else:\n",
        "      for i in total:\n",
        "        if i[-1]==a:\n",
        "          target=i\n",
        "          total.remove(i)\n",
        "  except:\n",
        "    target=[a]\n",
        "  for i in data[a]:\n",
        "    q=target.copy()\n",
        "    if i not in q:\n",
        "      q.append(i)\n",
        "      total.append(q)\n",
        "      findall(data,i,b)\n",
        "  return total\n",
        "data={1:[3,4],2:[3],3:[6],4:[6,7],5:[4,6],6:[2],7:[5]}\n",
        "findall(data,1,2)"
      ]
    },
    {
      "cell_type": "code",
      "execution_count": null,
      "metadata": {
        "colab": {
          "base_uri": "https://localhost:8080/"
        },
        "id": "MSSq-MO-uvvf",
        "outputId": "1516e809-b054-4645-a328-124c82ed58b7"
      },
      "outputs": [
        {
          "data": {
            "text/plain": [
              "4"
            ]
          },
          "execution_count": 79,
          "metadata": {},
          "output_type": "execute_result"
        }
      ],
      "source": [
        "data={1:[3],2:[3],3:[6],4:[6,7],6:[2],7:[5],5:[1,6]}\n",
        "visited={}\n",
        "parent={}\n",
        "for i in data.keys():\n",
        "  visited[i]=False\n",
        "  parent[i]=i\n",
        "def find(data,n):\n",
        "  if parent[n]==n:\n",
        "    return n\n",
        "  else:\n",
        "    old=parent[n]\n",
        "    return find(data,old)\n",
        "def tank(data):\n",
        "  current=None\n",
        "  for i in data.keys():\n",
        "    if visited[i] ==False:\n",
        "      visited[i]=True\n",
        "      current=i\n",
        "      break\n",
        "  if not current:\n",
        "    return\n",
        "  if data[current]==[]:\n",
        "    for i in data.keys():\n",
        "      if current  in data[i]:\n",
        "        parent[current]=find(data,i)\n",
        "    tank(data)\n",
        "  else:\n",
        "    for i in data[current]:\n",
        "      parent[i]=current\n",
        "      tank(data)\n",
        "  for i in parent.keys():\n",
        "    t=i\n",
        "    parent[i]=find(data,i)\n",
        "  return parent[t]\n",
        " \n",
        "tank(data)"
      ]
    },
    {
      "cell_type": "code",
      "execution_count": null,
      "metadata": {
        "id": "qe_p9xpQZlTz"
      },
      "outputs": [],
      "source": [
        "data=[[0,1,1,0,0,0,0],\n",
        "      [1,0,1,1,1,1,0],\n",
        "      [1,1,0,1,1,1,0],\n",
        "      [0,1,1,0,1,0,0],\n",
        "      [0,1,1,1,0,1,0],\n",
        "      [0,1,1,0,1,0,1],\n",
        "      [0,0,0,0,0,1,0]]\n",
        "      "
      ]
    },
    {
      "cell_type": "code",
      "execution_count": null,
      "metadata": {
        "colab": {
          "base_uri": "https://localhost:8080/"
        },
        "id": "tii5OioxwIHG",
        "outputId": "43014370-ac70-42b2-f745-2a451f826185"
      },
      "outputs": [
        {
          "data": {
            "text/plain": [
              "[3, 0, 1, 5, 6]"
            ]
          },
          "execution_count": 26,
          "metadata": {},
          "output_type": "execute_result"
        }
      ],
      "source": [
        "output=[]\n",
        "final=None\n",
        "def path(data,s,st,n):\n",
        "  global final\n",
        "  if st==s:\n",
        "    return \n",
        "  global output\n",
        "  try:\n",
        "    if output==[]:\n",
        "      raise\n",
        "    else:\n",
        "      for i in output:\n",
        "        if i[-1]==s:\n",
        "          target=i\n",
        "          output.remove(target)\n",
        "          break\n",
        "  except:\n",
        "    target=[0,s]\n",
        "  for i in  range(0,n):\n",
        "    c1=target.copy()\n",
        "    if data[s][i]==1 and (i not in c1):\n",
        "      c1.append(i)\n",
        "      c1[0]=c1[0]+1\n",
        "      if c1[-1]==st:\n",
        "        old=c1\n",
        "        if final:\n",
        "          if len(final)>len(c1):\n",
        "            final=c1\n",
        "        else:\n",
        "          final=old\n",
        "      else:\n",
        "        output.append(c1)\n",
        "        path(data,i,st,n)\n",
        "  return final\n",
        "data1=path(data,0,6,7)\n",
        "final"
      ]
    },
    {
      "cell_type": "code",
      "execution_count": null,
      "metadata": {
        "colab": {
          "base_uri": "https://localhost:8080/"
        },
        "id": "vRLTRIjl0qNQ",
        "outputId": "a715130f-d453-4ce8-f062-1c5d231c6eeb"
      },
      "outputs": [
        {
          "data": {
            "text/plain": [
              "3"
            ]
          },
          "execution_count": 20,
          "metadata": {},
          "output_type": "execute_result"
        }
      ],
      "source": [
        "def quick(data,s,st):\n",
        "  if st-s<=1:\n",
        "    return\n",
        "  lower=s+1\n",
        "  upper=st\n",
        "  pivot=data[s][0]\n",
        "  for i in range(s+1,st):\n",
        "    if data[i][0]<pivot:\n",
        "      data[i],data[lower]=data[lower],data[i]\n",
        "      lower+=1\n",
        "  data[s],data[lower-1]=data[lower-1],data[s]\n",
        "  lower-=1\n",
        "  quick(data,s,lower+1)\n",
        "  quick(data,lower+1,st)\n",
        "  return data[0][0]\n",
        "quick(data1,0,len(data1))"
      ]
    },
    {
      "cell_type": "code",
      "execution_count": null,
      "metadata": {
        "id": "bgsYKDwzUUWg"
      },
      "outputs": [],
      "source": [
        "data={'Madurai': ['Cochin', 'Kanyakumari'],\n",
        " 'Vaishali': [],\n",
        " 'Varanasi': ['Khajuraho', 'Bodhgaya'],\n",
        " 'Thiruvanandhapuram': ['Kanyakumari'],\n",
        " 'Udaipur': ['Gir', 'Ajanta'],\n",
        " 'Rishikesh': ['Delhi'],\n",
        " 'Shimla': ['Rishikesh'],\n",
        " 'Bangalore': ['Chennai', 'Madurai'],\n",
        " 'Agra': ['Ranthambore'],\n",
        " 'Ellora': ['Aurangabad'],\n",
        " 'Bodhgaya': ['Kolkatta'],\n",
        " 'Cochin': ['Thiruvanandhapuram'],\n",
        " 'Pushkar': ['Udaipur', 'Ranthambore'],\n",
        " 'Ranthambore': ['Khajuraho'],\n",
        " 'Gir': [],\n",
        " 'Aurangabad': ['Mumbai'],\n",
        " 'Kolkatta': ['Ajanta', 'Bangalore', 'Chennai'],\n",
        " 'Chennai': ['Madurai'],\n",
        " 'Sravasti': ['Kushinagar'],\n",
        " 'Leh': ['Shimla'],\n",
        " 'Sarnath': ['Varanasi'],\n",
        " 'Delhi': ['Jaipur', 'Agra', 'Sravasti'],\n",
        " 'Goa': ['Cochin', 'Bangalore'],\n",
        " 'Kanyakumari': [],\n",
        " 'Kushinagar': ['Sarnath', 'Vaishali'],\n",
        " 'Khajuraho': ['Ajanta'],\n",
        " 'Jaipur': ['Pushkar'],\n",
        " 'Mumbai': ['Goa'],\n",
        " 'Ajanta': ['Ellora', 'Aurangabad']}\n",
        " \n",
        " "
      ]
    },
    {
      "cell_type": "code",
      "execution_count": null,
      "metadata": {
        "colab": {
          "base_uri": "https://localhost:8080/"
        },
        "id": "BHDr-KZrSzZk",
        "outputId": "aab9c3c1-40d4-4cda-97b9-3f3bb94ad985"
      },
      "outputs": [
        {
          "data": {
            "text/plain": [
              "[21,\n",
              " 'Leh',\n",
              " 'Shimla',\n",
              " 'Rishikesh',\n",
              " 'Delhi',\n",
              " 'Sravasti',\n",
              " 'Kushinagar',\n",
              " 'Sarnath',\n",
              " 'Varanasi',\n",
              " 'Bodhgaya',\n",
              " 'Kolkatta',\n",
              " 'Ajanta',\n",
              " 'Ellora',\n",
              " 'Aurangabad',\n",
              " 'Mumbai',\n",
              " 'Goa',\n",
              " 'Bangalore',\n",
              " 'Chennai',\n",
              " 'Madurai',\n",
              " 'Cochin',\n",
              " 'Thiruvanandhapuram',\n",
              " 'Kanyakumari']"
            ]
          },
          "execution_count": 51,
          "metadata": {},
          "output_type": "execute_result"
        }
      ],
      "source": [
        "out=[]\n",
        "final=None\n",
        "def path(data,s,sp):\n",
        "  global out\n",
        "  global final\n",
        "  if sp==s:\n",
        "    return\n",
        "  try:\n",
        "    if out==[]:\n",
        "      raise\n",
        "    else:\n",
        "      for i in out:\n",
        "        if i[-1]==s:\n",
        "          f=i\n",
        "          out.remove(f)\n",
        "  except:\n",
        "    f=[1,s]\n",
        "\n",
        "  \n",
        "  for i in data[s]:\n",
        "    c=f.copy()\n",
        "    if i not in c:\n",
        "      c.append(i)\n",
        "      c[0]=c[0]+1\n",
        "      if i==sp:\n",
        "        if not final:\n",
        "          final=c\n",
        "        else:\n",
        "          if len(final)<len(c):\n",
        "            final=c\n",
        "      else:\n",
        "        out.append(c)\n",
        "        path(data,i,sp)\n",
        "  return final\n",
        "path(data,\"Leh\",\"Kanyakumari\")\n",
        "final"
      ]
    },
    {
      "cell_type": "code",
      "execution_count": null,
      "metadata": {
        "colab": {
          "base_uri": "https://localhost:8080/"
        },
        "id": "rQQtZYK0Y53h",
        "outputId": "2abbb902-e948-4eb2-ce9a-5f274d6652f3"
      },
      "outputs": [
        {
          "data": {
            "text/plain": [
              "21"
            ]
          },
          "execution_count": 49,
          "metadata": {},
          "output_type": "execute_result"
        }
      ],
      "source": [
        "len(['Leh', 'Shimla', 'Rishikesh', 'Delhi', 'Sravasti', 'Kushinagar', 'Sarnath', 'Varanasi', 'Bodhgaya', 'Kolkatta', 'Ajanta', 'Ellora', 'Aurangabad', 'Mumbai', 'Goa', 'Bangalore', 'Chennai', 'Madurai', 'Cochin', 'Thiruvanandhapuram', 'Kanyakumari'])"
      ]
    },
    {
      "cell_type": "code",
      "execution_count": null,
      "metadata": {
        "colab": {
          "base_uri": "https://localhost:8080/"
        },
        "id": "kxQ4Ovkd_AmO",
        "outputId": "79322d7a-e5f3-4537-a2dc-d413d7116bd5"
      },
      "outputs": [
        {
          "data": {
            "text/plain": [
              "{0: [1, 2, 3],\n",
              " 1: [0, 2, 6, 3],\n",
              " 2: [0, 1, 5, 4],\n",
              " 3: [0, 1, 4],\n",
              " 4: [6, 3, 2],\n",
              " 5: [6, 2],\n",
              " 6: [5, 4, 1]}"
            ]
          },
          "execution_count": 39,
          "metadata": {},
          "output_type": "execute_result"
        }
      ],
      "source": [
        "data=[(0,1,10),(0,2,50),(0,3,300),(5,6,45),(2,1,30),(6,4,37),(1,6,65),(2,5,76),(1,3,40),(3,4,60),(2,4,20)]\n",
        "given={}\n",
        "for i in data:\n",
        "  try:\n",
        "    given[i[0]].append(i[1])\n",
        "  except:\n",
        "    given[i[0]]=[]\n",
        "    given[i[0]].append(i[1])\n",
        "  try:\n",
        "    given[i[1]].append(i[0])\n",
        "  except:\n",
        "    given[i[1]]=[]\n",
        "    given[i[1]].append(i[0])\n",
        "  \n",
        "  if i[1] not in given:\n",
        "    given[i[1]]=[]\n",
        "given"
      ]
    },
    {
      "cell_type": "code",
      "execution_count": null,
      "metadata": {
        "colab": {
          "base_uri": "https://localhost:8080/"
        },
        "id": "zFbM3Z8s_Apq",
        "outputId": "9c6d1618-8571-4234-9868-e2aba0262493"
      },
      "outputs": [
        {
          "data": {
            "text/plain": [
              "[75, 0, 1, 6]"
            ]
          },
          "execution_count": 40,
          "metadata": {},
          "output_type": "execute_result"
        }
      ],
      "source": [
        "# 1 november 2021\n",
        "final=None\n",
        "path=[]\n",
        "def weight(a,b):\n",
        "  global data\n",
        "  for i in data:\n",
        "    if (i[0]== a and i[1]==b) or (i[1]== a and i[0]==b) :\n",
        "      return i[2]\n",
        "\n",
        "\n",
        "def adarsh(given,s,st):\n",
        "  global path\n",
        "  global final\n",
        "  if st==s:\n",
        "    return path\n",
        "  try:\n",
        "    if path==[]:\n",
        "      raise\n",
        "    else:\n",
        "      for i in path:\n",
        "        if i[-1]==s:\n",
        "          target=i\n",
        "          path.remove(target)\n",
        "  except:\n",
        "    w=0\n",
        "    target=[0]\n",
        "    target.append(s)\n",
        "\n",
        "  #print(path,target)\n",
        "  for j in given[s]:\n",
        "    c=target.copy()\n",
        "    if j  in c:\n",
        "      continue\n",
        "    c.append(j)\n",
        "    w=weight(s,j)\n",
        "    c[0]=c[0]+w\n",
        "    if j==st:\n",
        "      if final:\n",
        "        if len(final)>len(c):\n",
        "          if final[0]>c[0]:\n",
        "            final=c\n",
        "      else:\n",
        "        final=c\n",
        "      path.append(c)\n",
        "      return \n",
        "    else:\n",
        "      path.append(c)\n",
        "      adarsh(given,j,st)\n",
        "  return final\n",
        "adarsh(given,0,6)\n",
        "final"
      ]
    },
    {
      "cell_type": "code",
      "execution_count": null,
      "metadata": {
        "colab": {
          "base_uri": "https://localhost:8080/"
        },
        "id": "EF0ZFIqe_Ar0",
        "outputId": "ca713211-7098-433e-e5a1-e8de2ce5ae77"
      },
      "outputs": [
        {
          "data": {
            "text/plain": [
              "([75, 0, 1, 6],\n",
              " [[161, 0, 1, 2, 5, 6],\n",
              "  [97, 0, 1, 2, 4, 6],\n",
              "  [75, 0, 1, 6],\n",
              "  [145, 0, 2, 1, 6],\n",
              "  [171, 0, 2, 5, 6],\n",
              "  [107, 0, 2, 4, 6],\n",
              "  [491, 0, 3, 1, 2, 5, 6],\n",
              "  [427, 0, 3, 1, 2, 4, 6],\n",
              "  [405, 0, 3, 1, 6],\n",
              "  [397, 0, 3, 4, 6]])"
            ]
          },
          "execution_count": 75,
          "metadata": {},
          "output_type": "execute_result"
        }
      ],
      "source": [
        "path=[]\n",
        "final=None\n",
        "class a:\n",
        "  global path\n",
        "  global final\n",
        "  def __init__(self,data):\n",
        "    self.data=data\n",
        "    self.path=path\n",
        "    self.final=final\n",
        "    return\n",
        "  def find(self):\n",
        "    given={}\n",
        "    data=self.data\n",
        "    for i in data:\n",
        "      try:\n",
        "        given[i[0]].append(i[1])\n",
        "      except:\n",
        "        given[i[0]]=[]\n",
        "        given[i[0]].append(i[1])\n",
        "      try:\n",
        "        given[i[1]].append(i[0])\n",
        "      except:\n",
        "        given[i[1]]=[]\n",
        "        given[i[1]].append(i[0])\n",
        "      if i[1] not in given:\n",
        "        given[i[1]]=[]\n",
        "    return given\n",
        "\n",
        "\n",
        "  def adarsh(self,s,st):\n",
        "    path=self.path\n",
        "    final=self.final\n",
        "    given=self.find()\n",
        "    if st==s:\n",
        "      return self.path\n",
        "    try:\n",
        "      if path==[]:\n",
        "        raise\n",
        "      else:\n",
        "        for i in path:\n",
        "          if i[-1]==s:\n",
        "            target=i\n",
        "            path.remove(target)\n",
        "    except:\n",
        "      w=0\n",
        "      target=[0]\n",
        "      target.append(s)\n",
        "    for j in given[s]:\n",
        "      c=target.copy()\n",
        "      if j  in c:\n",
        "        continue\n",
        "      c.append(j)\n",
        "      w=weight(s,j)\n",
        "      c[0]=c[0]+w\n",
        "      if j==st:\n",
        "        if final:\n",
        "          if len(final)>len(c):\n",
        "            if final[0]>c[0]:\n",
        "              final=c\n",
        "        else:\n",
        "          self.final=c\n",
        "          #print(final)\n",
        "        path.append(c)\n",
        "        return\n",
        "      else:\n",
        "        self.path.append(c)\n",
        "        #print(self.path)\n",
        "        self.adarsh(j,st)\n",
        "    return self.final,self.path\n",
        "new=a(data)\n",
        "new.adarsh(0,6)\n"
      ]
    },
    {
      "cell_type": "code",
      "execution_count": null,
      "metadata": {
        "colab": {
          "base_uri": "https://localhost:8080/"
        },
        "id": "OBn9eOMw_AtC",
        "outputId": "a31f8742-d64e-42d1-c366-e2d90b1a70d3"
      },
      "outputs": [
        {
          "data": {
            "text/plain": [
              "[900, 0, 7, 6, 5, 2, 1]"
            ]
          },
          "execution_count": 103,
          "metadata": {},
          "output_type": "execute_result"
        }
      ],
      "source": [
        "# class taxi:\n",
        "data=[(0,1,1000),(0,7,800),(1,5,200),(2,1,100),(2,3,100),(3,4,300),(4,5,500),(5,2,-200),(2,4,-200),(6,1,400),(6,5,100),(7,6,100)]\n",
        "class taxi:\n",
        "  def __init__(self,data):\n",
        "    self.data=data\n",
        "    self.route=[]\n",
        "    self.final=None\n",
        "\n",
        "  def possible(self):\n",
        "    exact={}\n",
        "    data=self.data\n",
        "    for i in data:\n",
        "      f=i[0]\n",
        "      s=i[1]\n",
        "      try:\n",
        "        exact[f].append(s)\n",
        "      except:\n",
        "        exact[f]=[]\n",
        "        exact[f].append(s)\n",
        "    return exact\n",
        "  \n",
        "  def weight(self,a,b):\n",
        "    for i in self.data:\n",
        "      if (i[0]==a and i[1]==b) :\n",
        "        w=i[2]\n",
        "        return w\n",
        "\n",
        "  \n",
        "  def path(self,a,b):\n",
        "    exact=self.possible()\n",
        "    try:\n",
        "      if self.route==[]:\n",
        "        raise\n",
        "      else:\n",
        "        for i in self.route:\n",
        "          if i[-1]==a:\n",
        "            target=i\n",
        "            self.route.remove(target)\n",
        "    except:\n",
        "      target=[0]\n",
        "      target.append(a)\n",
        "  \n",
        "    for j in exact[a]:\n",
        "      c=target.copy()\n",
        "      if j not in c:\n",
        "        c.append(j)\n",
        "        c[0]=c[0]+self.weight(a,j)\n",
        "        self.route.append(c)\n",
        "        if j!=b:\n",
        "          self.path(j,b)\n",
        "        else:\n",
        "          if self.final:\n",
        "            #print(\"ggg\",self.final)\n",
        "            if self.final[0]>c[0]:\n",
        "              self.final=c\n",
        "          else:\n",
        "            self.final=c\n",
        "\n",
        "    return self.final\n",
        "\n",
        "c1=taxi(data)\n",
        "c1.path(0,1)\n",
        "#c1.possible()"
      ]
    },
    {
      "cell_type": "code",
      "execution_count": null,
      "metadata": {
        "id": "YDAYN2GD_Awe"
      },
      "outputs": [],
      "source": [
        "data=[(0,1,10),(0,7,800),(1,5,200),(2,1,100),(2,3,100),(3,4,300),(4,5,500),(5,2,-200),(2,4,-200),(6,1,400),(6,5,100),(7,6,100)]"
      ]
    },
    {
      "cell_type": "code",
      "execution_count": null,
      "metadata": {
        "colab": {
          "base_uri": "https://localhost:8080/"
        },
        "id": "LWXXnDzK_Az4",
        "outputId": "84a9ce34-150b-4daa-ded1-0dc8381b35ab"
      },
      "outputs": [
        {
          "data": {
            "text/plain": [
              "[(0, 1, 10),\n",
              " (2, 4, 20),\n",
              " (2, 1, 30),\n",
              " (6, 4, 37),\n",
              " (1, 3, 40),\n",
              " (5, 6, 45),\n",
              " (0, 2, 50),\n",
              " (3, 4, 60),\n",
              " (1, 6, 65),\n",
              " (2, 5, 76),\n",
              " (0, 3, 300)]"
            ]
          },
          "execution_count": 4,
          "metadata": {},
          "output_type": "execute_result"
        }
      ],
      "source": [
        "data=[(0,1,10),(0,2,50),(0,3,300),(5,6,45),(2,1,30),(6,4,37),(1,6,65),(2,5,76),(1,3,40),(3,4,60),(2,4,20)]\n",
        "def quick(data,a,b):\n",
        "  if b-a<=1:\n",
        "    return\n",
        "  lower=a+1\n",
        "  upper=b\n",
        "  pivot=data[a][-1]\n",
        "  for i in range(a+1,b):\n",
        "    if data[i][-1]<pivot:\n",
        "      data[lower],data[i]=data[i],data[lower]\n",
        "      lower+=1\n",
        "  data[a],data[lower-1]=data[lower-1],data[a]\n",
        "  lower-=1\n",
        "  quick(data,a,lower+1)\n",
        "  quick(data,lower+1,b)\n",
        "  return data\n",
        "newd=quick(data,0,len(data))\n",
        "newd"
      ]
    },
    {
      "cell_type": "code",
      "execution_count": null,
      "metadata": {
        "colab": {
          "base_uri": "https://localhost:8080/"
        },
        "id": "oCI2xePgbE4b",
        "outputId": "c7b2a5c8-85f5-4abe-d8ca-cc67f75bfc0c"
      },
      "outputs": [
        {
          "data": {
            "text/plain": [
              "[[0, 1]]"
            ]
          },
          "execution_count": 6,
          "metadata": {},
          "output_type": "execute_result"
        }
      ],
      "source": [
        "def merge(new):\n",
        "  output=[]\n",
        "  ok=set()\n",
        "  for i in new:\n",
        "    f=i[0]\n",
        "    s=[1]\n",
        "    ff=None\n",
        "    sf=None\n",
        "    try:\n",
        "      if output==[]:\n",
        "        ok.add(i[0])\n",
        "        ok.add(i[1])\n",
        "        output.append([i[0],i[1]])\n",
        "    except:\n",
        "      for j in output:\n",
        "        if f in j:\n",
        "          ff=j\n",
        "        if s in j:\n",
        "          sf=j\n",
        "        \n",
        "        if ff is None:\n",
        "          if sf  is None:\n",
        "            output.append([f,s])\n",
        "            ok.add(f)\n",
        "            ok.add(s)\n",
        "          else:\n",
        "            sf.append(f)\n",
        "        elif sf is None:\n",
        "          if ff  is None:\n",
        "            output.append([f,s])\n",
        "            ok.add(f)\n",
        "            ok.add(s)\n",
        "          else:\n",
        "            sf.append(s)\n",
        "        if ff==sf:\n",
        "          break\n",
        "    return output\n",
        "merge(newd)\n",
        "        \n",
        "        \n",
        "\n",
        "        \n",
        "\n"
      ]
    },
    {
      "cell_type": "code",
      "execution_count": null,
      "metadata": {
        "colab": {
          "base_uri": "https://localhost:8080/"
        },
        "id": "R7UNIsa_bE6e",
        "outputId": "b2474cc6-5295-4d3b-ed76-2deb21c41823"
      },
      "outputs": [
        {
          "name": "stdout",
          "output_type": "stream",
          "text": [
            "[(0, 1, 10), (0, 2, 50), (0, 3, 300), (5, 6, 45), (2, 1, 30), (6, 4, 37), (1, 6, 65), (2, 5, 76), (1, 3, 40), (3, 4, 60), (2, 4, 20)]\n",
            "{0: [(1, 10), (2, 50), (3, 300)], 1: [(6, 65), (3, 40)], 2: [(1, 30), (5, 76), (4, 20)], 3: [(4, 60)], 5: [(6, 45)], 6: [(4, 37)], 4: []}\n",
            "{0: True, 1: True, 2: True, 3: True, 5: True, 6: True, 4: True}\n"
          ]
        }
      ],
      "source": [
        "data=[(0,1,10),(0,2,50),(0,3,300),(5,6,45),(2,1,30),(6,4,37),(1,6,65),(2,5,76),(1,3,40),(3,4,60),(2,4,20)]\n",
        "visit={}\n",
        "node={}\n",
        "for i in data:\n",
        "  visit[i[0]]=True\n",
        "  visit[i[1]]=True\n",
        "  if i[0] not in node.keys():\n",
        "    node[i[0]]=[i[1:]]\n",
        "  else:\n",
        "    node[i[0]].append(i[1:])\n",
        "  if i[1] not in node.keys():\n",
        "    node[i[1]]=[]\n",
        "def quick(data,a,b):\n",
        "  if b-a<=1:\n",
        "    return data\n",
        "  lower=a+1\n",
        "  pivot=data[a][1]\n",
        "  for j in range(a+1,b):\n",
        "    if data[j][1]<pivot:\n",
        "      data[j],data[lower]=data[lower],data[j]\n",
        "      lower+=1\n",
        "  data[a],data[lower-1]=data[lower-1],data[a]\n",
        "  lower-=1\n",
        "  quick(data,a,lower+1)\n",
        "  quick(data,lower+1,b)\n",
        "  return data\n",
        "print(data)\n",
        "print(node)\n",
        "print(visit)\n"
      ]
    },
    {
      "cell_type": "code",
      "execution_count": null,
      "metadata": {
        "colab": {
          "base_uri": "https://localhost:8080/"
        },
        "id": "U3C0ABLs3gdt",
        "outputId": "e6e09c86-d32e-42a2-9172-1a564bc28a44"
      },
      "outputs": [
        {
          "data": {
            "text/plain": [
              "([(1, 1), (5, 2), [3, 1], [2, 2], (4, 3)], 9)"
            ]
          },
          "execution_count": 37,
          "metadata": {},
          "output_type": "execute_result"
        }
      ],
      "source": [
        "\n",
        "prims(data)"
      ]
    },
    {
      "cell_type": "code",
      "execution_count": null,
      "metadata": {
        "colab": {
          "base_uri": "https://localhost:8080/"
        },
        "id": "YrikPVKI3gqw",
        "outputId": "38f62520-3c57-4c75-91ea-d60beb72702d"
      },
      "outputs": [
        {
          "name": "stdout",
          "output_type": "stream",
          "text": [
            "{0: [(1, 1), (2, 4), (5, 14), (4, 12)], 1: [[0, 1], (2, 7)], 2: [[0, 4], [1, 7], (5, 17)], 5: [[0, 14], [2, 17], [3, 22]], 4: [[0, 12], [3, 26]], 3: [(5, 22), (4, 26)]}\n"
          ]
        },
        {
          "data": {
            "text/plain": [
              "([(1, 1), (2, 4), (4, 12), (5, 14), [3, 22]], 53)"
            ]
          },
          "execution_count": 18,
          "metadata": {},
          "output_type": "execute_result"
        }
      ],
      "source": [
        "data=[(0,1,1),(0,2,4),(1,2,7),(0,5,14),(0,4,12),(2,5,17),(3,5,22),(3,4,26)]\n",
        "visit={}\n",
        "node={}\n",
        "for i in data:\n",
        "  visit[i[0]]=True\n",
        "  visit[i[1]]=True\n",
        "  if i[0] not in node.keys():\n",
        "    node[i[0]]=[i[1:]]\n",
        "  else:\n",
        "    node[i[0]].append(i[1:])\n",
        "  if i[1] not in node.keys():\n",
        "    node[i[1]]=[[i[0]]+[i[2]]]\n",
        "  else:\n",
        "    node[i[1]].append([i[0]]+[i[2]])\n",
        "def quick(data,a,b):\n",
        "  if b-a<=1:\n",
        "    return data\n",
        "  lower=a+1\n",
        "  pivot=data[a][1]\n",
        "  for j in range(a+1,b):\n",
        "    if data[j][1]<pivot:\n",
        "      data[j],data[lower]=data[lower],data[j]\n",
        "      lower+=1\n",
        "  data[a],data[lower-1]=data[lower-1],data[a]\n",
        "  lower-=1\n",
        "  quick(data,a,lower+1)\n",
        "  quick(data,lower+1,b)\n",
        "  return data\n",
        "print(node)\n",
        "\n",
        "def prims(data):\n",
        "  global visit\n",
        "  global node\n",
        "  output=[]\n",
        "  track=[]\n",
        "  c=0\n",
        "  f=data[0][0]\n",
        "  for i in node[f]:\n",
        "    track.append(i)\n",
        "    \n",
        "  #output.append(f)\n",
        "  visit[f]=False\n",
        "  while track:\n",
        "    #print(track,\"-------------\")\n",
        "    for j in node[f]:\n",
        "      if  visit[j[0]]:\n",
        "        track.append(j)\n",
        "    sort=quick(track,0,len(track))\n",
        "    #print(sort)\n",
        "    n=sort[0]\n",
        "    track.remove(sort[0])\n",
        "    if visit[n[0]]:\n",
        "      output.append(n)\n",
        "      c=c+n[1]\n",
        "      visit[n[0]]=False\n",
        "      f=n[0]\n",
        "    #print(output,track,f)\n",
        "  return output,c\n",
        "prims(data)"
      ]
    },
    {
      "cell_type": "code",
      "execution_count": null,
      "metadata": {
        "colab": {
          "background_save": true,
          "base_uri": "https://localhost:8080/"
        },
        "id": "cFZsToi6bE8G",
        "outputId": "8f627afa-bcdc-48f3-c4e2-66ef719e6794"
      },
      "outputs": [
        {
          "name": "stdout",
          "output_type": "stream",
          "text": [
            "[[0, 1]]\n"
          ]
        }
      ],
      "source": [
        "data=[(0,1,10),(0,2,50),(0,3,300),(5,6,45),(2,1,30),(6,4,37),(1,6,65),(2,5,76),(1,3,40),(3,4,60),(2,4,20)]\n",
        "def quick(data,a,b):\n",
        "  if b-a<=1:\n",
        "    return data\n",
        "  lower=a+1\n",
        "  pivot=data[a][2]\n",
        "  for j in range(a+1,b):\n",
        "    if data[j][2]<pivot:\n",
        "      data[j],data[lower]=data[lower],data[j]\n",
        "      lower+=1\n",
        "  data[a],data[lower-1]=data[lower-1],data[a]\n",
        "  lower-=1\n",
        "  quick(data,a,lower+1)\n",
        "  quick(data,lower+1,b)\n",
        "  return data\n",
        "def find(data):\n",
        "  sort=quick(data,0,len(data))\n",
        "  output=[[]]\n",
        "  output[0].append(sort[0][0])\n",
        "  output[0].append(sort[0][1])\n",
        "  sort.remove(sort[0])\n",
        "  print(output,\".......\")\n",
        "  while sort:\n",
        "    first=sort[0][0]\n",
        "    fflag=True\n",
        "    fval=None\n",
        "    second=sort[0][1]\n",
        "    sflag=True\n",
        "    sval=None\n",
        "    for i in output:\n",
        "      if first in i  and fflag:\n",
        "        fflag= False\n",
        "        fval=i\n",
        "      if second in i and sflag:\n",
        "        sflag=False\n",
        "        sval=i\n",
        "    if fflag == sflag==True:\n",
        "      output.append([first,second])\n",
        "      continue\n",
        "    if fval==sval:\n",
        "      sort.remove(sort[0])\n",
        "      continue\n",
        "    if fflag==sflag==False:\n",
        "      fnow=fval\n",
        "      snow=sval\n",
        "      output.remove(fnow)\n",
        "      snow.extend(fnow)\n",
        "      output.append(snow)\n",
        "      continue\n",
        "    if not fflag:\n",
        "      fnow=fval\n",
        "      fnow.append(first)\n",
        "      output.remove(fval)\n",
        "      output.append(fnow)\n",
        "      continue\n",
        "    if not sflag:\n",
        "      snow=sval\n",
        "      snow.append(second)\n",
        "      output.remove(sval)\n",
        "      output.append(snow)\n",
        "      continue\n",
        "    print(output,sort)\n",
        "  return output\n",
        "find(data)\n",
        "\n"
      ]
    },
    {
      "cell_type": "code",
      "execution_count": null,
      "metadata": {
        "colab": {
          "base_uri": "https://localhost:8080/"
        },
        "id": "dt_wA6JEbE95",
        "outputId": "19320750-e201-4031-d2eb-85e2450a217a"
      },
      "outputs": [
        {
          "data": {
            "text/plain": [
              "False"
            ]
          },
          "execution_count": 5,
          "metadata": {},
          "output_type": "execute_result"
        }
      ],
      "source": [
        "None==None==True\n",
        "\n",
        "\n"
      ]
    },
    {
      "cell_type": "code",
      "execution_count": null,
      "metadata": {
        "id": "3K65rjRIbE_O"
      },
      "outputs": [],
      "source": [
        ""
      ]
    },
    {
      "cell_type": "code",
      "execution_count": null,
      "metadata": {
        "id": "SLU3mZrPbFBy"
      },
      "outputs": [],
      "source": [
        ""
      ]
    },
    {
      "cell_type": "code",
      "execution_count": null,
      "metadata": {
        "id": "06gWf80MbFDX"
      },
      "outputs": [],
      "source": [
        ""
      ]
    },
    {
      "cell_type": "code",
      "execution_count": null,
      "metadata": {
        "id": "GQl2CkI3bFGH"
      },
      "outputs": [],
      "source": [
        ""
      ]
    },
    {
      "cell_type": "code",
      "execution_count": null,
      "metadata": {
        "id": "Du7KrOQ8_A1h"
      },
      "outputs": [],
      "source": [
        ""
      ]
    },
    {
      "cell_type": "code",
      "execution_count": null,
      "metadata": {
        "id": "arMvkouQ_A3u"
      },
      "outputs": [],
      "source": [
        ""
      ]
    },
    {
      "cell_type": "code",
      "execution_count": null,
      "metadata": {
        "id": "QbWG59jU_A7L"
      },
      "outputs": [],
      "source": [
        ""
      ]
    }
  ],
  "metadata": {
    "colab": {
      "collapsed_sections": [],
      "name": "Python practice 1.ipynbactice 1",
      "provenance": [],
      "authorship_tag": "ABX9TyNLw8xSu8ArXrLGpxFVMuXt",
      "include_colab_link": true
    },
    "kernelspec": {
      "display_name": "Python 3",
      "name": "python3"
    },
    "language_info": {
      "name": "python"
    }
  },
  "nbformat": 4,
  "nbformat_minor": 0
}